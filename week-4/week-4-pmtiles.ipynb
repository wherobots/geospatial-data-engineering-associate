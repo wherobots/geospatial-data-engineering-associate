{
 "cells": [
  {
   "cell_type": "code",
   "execution_count": null,
   "id": "af2de148-f876-4664-bac7-4351e0f6494c",
   "metadata": {},
   "outputs": [],
   "source": [
    "import os\n",
    "from wherobots import vtiles\n",
    "from sedona.spark import *\n",
    "from pyspark.sql.functions import *"
   ]
  },
  {
   "cell_type": "code",
   "execution_count": null,
   "id": "8181e8cd-2ac3-4a81-a10d-ca1fbb2914b4",
   "metadata": {},
   "outputs": [],
   "source": [
    "config = SedonaContext.builder().getOrCreate()\n",
    "sedona = SedonaContext.create(config)"
   ]
  },
  {
   "cell_type": "code",
   "execution_count": null,
   "id": "9c72fa8c-0fb8-412d-ad6f-234ab503678b",
   "metadata": {},
   "outputs": [],
   "source": [
    "base_s3_uri = f'{os.getenv(\"USER_S3_PATH\")}PMTiles-example'\n",
    "s3_destination_uri = f'{base_s3_uri}/data'"
   ]
  },
  {
   "cell_type": "code",
   "execution_count": null,
   "id": "5a708b2f-4b61-4caa-a151-377959b34537",
   "metadata": {},
   "outputs": [],
   "source": [
    "df = sedona.sql('''select *, 'homes' as layer from org_catalog.gde_gold.analytics_gold''')"
   ]
  },
  {
   "cell_type": "code",
   "execution_count": null,
   "id": "59ded1cc-a969-4c45-b476-da9d22bc923f",
   "metadata": {},
   "outputs": [],
   "source": [
    "s3_full_path = f\"{base_s3_uri}/pmtiles/homes.pmtiles\"\n",
    "vtiles.generate_pmtiles(df, s3_full_path)"
   ]
  },
  {
   "cell_type": "code",
   "execution_count": null,
   "id": "08080978-2f73-4bb1-8d1d-00f580efd0e5",
   "metadata": {},
   "outputs": [],
   "source": [
    "vtiles.show_pmtiles(s3_full_path)"
   ]
  }
 ],
 "metadata": {
  "kernelspec": {
   "display_name": "Python 3 (ipykernel)",
   "language": "python",
   "name": "python3"
  },
  "language_info": {
   "codemirror_mode": {
    "name": "ipython",
    "version": 3
   },
   "file_extension": ".py",
   "mimetype": "text/x-python",
   "name": "python",
   "nbconvert_exporter": "python",
   "pygments_lexer": "ipython3",
   "version": "3.11.14"
  }
 },
 "nbformat": 4,
 "nbformat_minor": 5
}
