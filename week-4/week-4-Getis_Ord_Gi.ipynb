{
 "cells": [
  {
   "cell_type": "markdown",
   "id": "b9c9cad6225b4077",
   "metadata": {},
   "source": [
    "# Getis Ord Gi*\n",
    "Getis  and Ord's Gi and Gi* statistics are popular statistical approaches for finding statistically significant hot and cold spots across space. It compares the value of some numerical variable of a spatial record with those of the neighboring records. The nature of these neighborhoods is controlled by the user. \n",
    "\n",
    "In this example, we will use the Gi* statistic on the Kings County Homes dataset we prepared last week to identify regions of high and lower \"density\"."
   ]
  },
  {
   "cell_type": "code",
   "execution_count": null,
   "id": "121abd85-9620-42a2-b02b-6bf05f58d7e8",
   "metadata": {},
   "outputs": [],
   "source": [
    "import wkls\n",
    "\n",
    "region = wkls.us.wa.kirkland.wkt()\n",
    "neighbor_search_radius_degrees = .01\n",
    "h3_zoom_level = 10"
   ]
  },
  {
   "cell_type": "code",
   "execution_count": null,
   "id": "e9574035-6dd3-404c-8219-315d6cfb376b",
   "metadata": {},
   "outputs": [],
   "source": [
    "database = 'gde_gold'\n",
    "\n",
    "sedona.sql(f'CREATE DATABASE IF NOT EXISTS org_catalog.{database}')\n",
    "database"
   ]
  },
  {
   "cell_type": "markdown",
   "id": "6ec0772a-10af-46f3-8865-eef698ff1306",
   "metadata": {},
   "source": [
    "## Spark Initialization\n",
    "We will use Spark to run the Gi* algorithm. We initialize a Spark session with Sedona.\n"
   ]
  },
  {
   "cell_type": "code",
   "execution_count": null,
   "id": "8201d8e7-3ce4-4903-875f-36a5e6532e20",
   "metadata": {},
   "outputs": [],
   "source": [
    "from sedona.spark import *\n",
    "\n",
    "config = SedonaContext.builder().getOrCreate()\n",
    "sedona = SedonaContext.create(config)"
   ]
  },
  {
   "cell_type": "markdown",
   "id": "253f72f4-da05-4298-bb4f-880d1a1f11fd",
   "metadata": {},
   "source": [
    "## Filtering and Aggregation\n",
    "In this notebook we assign an H3 cell to each record and filter down to only the region of interest. We aggregate the places data by the cell idenitier and find the number of places in each cell.\n"
   ]
  },
  {
   "cell_type": "code",
   "execution_count": null,
   "id": "c4a5668c-634f-403a-9800-305f43689583",
   "metadata": {},
   "outputs": [],
   "source": [
    "import pyspark.sql.functions as f\n",
    "places_df = (\n",
    "    sedona.table(\"org_catalog.gde_bronze.king_co_homes_conflated\")\n",
    "        .select(f.col(\"point\"), f.col(\"sale_price\"), f.col(\"sale_date\"), f.col(\"sale_id\"))\n",
    "        .withColumn(\"h3Cell\", ST_H3CellIDs(f.col(\"point\"), h3_zoom_level, False)[0])\n",
    ")\n",
    "\n",
    "if region is not None:\n",
    "    places_df = places_df.filter(ST_Intersects(ST_GeomFromText(f.lit(region)), f.col(\"geometry\"))).repartition(100)\n",
    "\n",
    "places_df.count()"
   ]
  },
  {
   "cell_type": "code",
   "execution_count": null,
   "id": "f1ff1a86-2005-43f6-9e24-0dfba71bde01",
   "metadata": {},
   "outputs": [],
   "source": [
    "hexes_df = (\n",
    "    places_df\n",
    "        .groupBy(f.col(\"h3Cell\"))\n",
    "        .agg(f.count(\"*\").alias(\"num_places\")) # how many places in this cell\n",
    "        .withColumn(\"geometry\", ST_H3ToGeom(f.array(f.col(\"h3Cell\")))[0])\n",
    ")"
   ]
  },
  {
   "cell_type": "markdown",
   "id": "8a2f2683-2c26-428a-8a48-5f80e0b7ea46",
   "metadata": {},
   "source": [
    "## Sanity Check our Variable\n",
    "We want to make sure we have a good distribution of values in our variable that we will analyze. Specifically we are ensuring that our cells are not too small which would be indicated by the places counts all being very low. We generate deciles here to make sure that there is some good range of these values. An extreme negative example would be if these values were all zero and one.\n"
   ]
  },
  {
   "cell_type": "code",
   "execution_count": null,
   "id": "c90fa6af-024f-41f1-a3bf-8663b512cb4c",
   "metadata": {},
   "outputs": [],
   "source": [
    "hexes_df.select(f.percentile_approx(\"num_places\", [x / 10.0 for x in range(11)])).collect()[0][0]"
   ]
  },
  {
   "cell_type": "markdown",
   "id": "6b516f69-9635-4ba2-ad94-5618b223908d",
   "metadata": {},
   "source": [
    "## Generate our Gi* statistic\n",
    "\n",
    "Finally, we generate our statistic. There are a lot of variables to fine tune here; these are explained in the API documentation. Here we use the most typical parameters. The exception is the search radius which is always domain specific.\n",
    "\n",
    "The output here will show us, among other things, a Z score and P value. A Z score shows how many standard deviations from the mean of the neighborhood the value is and the P score tells us the chance that value is from random variation rather than an actual phenomenon.\n",
    "\n"
   ]
  },
  {
   "cell_type": "code",
   "execution_count": null,
   "id": "eccd4e89-719d-4d16-813e-2243d1e63a34",
   "metadata": {},
   "outputs": [],
   "source": [
    "from sedona.spark import *\n",
    "\n",
    "\n",
    "gi_df = g_local(\n",
    "    add_binary_distance_band_column(\n",
    "        hexes_df,\n",
    "        neighbor_search_radius_degrees,\n",
    "        include_self=True,\n",
    "    ),\n",
    "    \"num_places\",\n",
    "    \"weights\",\n",
    "    star=True\n",
    ").cache()\n",
    "\n",
    "gi_df.orderBy(f.col(\"P\").asc()).show(5)"
   ]
  },
  {
   "cell_type": "markdown",
   "id": "34f7869c-0928-4827-94b2-27e5e0dec7c1",
   "metadata": {},
   "source": [
    "## Visualize\n",
    "Now we plot our statistics in Kepler. Once Kepler is rendered, you can color the cells by Z score and set the number of bands to 10 with the color palette that goes from blue to red. the bluest are the cold spots and reddest hottest."
   ]
  },
  {
   "cell_type": "code",
   "execution_count": null,
   "id": "f7aa4843-39b1-49b6-b1c5-598ef27e2b15",
   "metadata": {},
   "outputs": [],
   "source": [
    "from sedona.spark import *\n",
    "\n",
    "kmap = SedonaKepler.create_map(places_df, \"places\")\n",
    "\n",
    "SedonaKepler.add_df(\n",
    "    kmap,\n",
    "    gi_df.drop(\"weights\"),\n",
    "    \"cells\"\n",
    ")\n",
    "\n",
    "kmap"
   ]
  },
  {
   "cell_type": "markdown",
   "id": "2d9f6e11-7ae6-4358-916f-f659a2775942",
   "metadata": {},
   "source": [
    "## Save out the statistics dataframe to a Gold table"
   ]
  },
  {
   "cell_type": "code",
   "execution_count": null,
   "id": "9cf8a10c-7fb0-4b91-ac41-0cb9859bba54",
   "metadata": {},
   "outputs": [],
   "source": [
    "%%time\n",
    "\n",
    "gi_df.writeTo(f\"org_catalog.{database}.king_co_homes_hotspots\").createOrReplace()"
   ]
  }
 ],
 "metadata": {
  "kernelspec": {
   "display_name": "Python 3 (ipykernel)",
   "language": "python",
   "name": "python3"
  },
  "language_info": {
   "codemirror_mode": {
    "name": "ipython",
    "version": 3
   },
   "file_extension": ".py",
   "mimetype": "text/x-python",
   "name": "python",
   "nbconvert_exporter": "python",
   "pygments_lexer": "ipython3",
   "version": "3.11.14"
  }
 },
 "nbformat": 4,
 "nbformat_minor": 5
}
