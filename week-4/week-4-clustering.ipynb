{
 "cells": [
  {
   "cell_type": "code",
   "execution_count": null,
   "id": "1be7e1b4-b339-407e-aeda-cd210e6d2305",
   "metadata": {},
   "outputs": [],
   "source": [
    "from sedona.spark import *\n",
    "config = SedonaContext.builder().getOrCreate()\n",
    "sedona = SedonaContext.create(config)"
   ]
  },
  {
   "cell_type": "code",
   "execution_count": null,
   "id": "947a6386-84dd-41cf-9a88-0e3f209af736",
   "metadata": {},
   "outputs": [],
   "source": [
    "database = 'gde_gold'\n",
    "sedona.sql(f'CREATE DATABASE IF NOT EXISTS org_catalog.{database}')"
   ]
  },
  {
   "cell_type": "code",
   "execution_count": null,
   "id": "709df6b0-03ce-4bb2-828d-4526ee6cd1bd",
   "metadata": {},
   "outputs": [],
   "source": [
    "sedona.sql(f'''\n",
    "create or replace table org_catalog.{database}.clusters_gold as \n",
    "select \n",
    "a.sale_id,\n",
    "a.geometry,\n",
    "a.sale_price,\n",
    "a.year_built,\n",
    "a.sqft,\n",
    "a.mean_ndvi_500m_radius,\n",
    "b.avg_school_high_achievement,\n",
    "c.pw_median_income_proxy,\n",
    "c.est_total_pop\n",
    "from org_catalog.gde_silver.house_sales_silver a\n",
    "join org_catalog.gde_silver.homes_school_scores b using (sale_id)\n",
    "join org_catalog.gde_silver.homes_demographics c using (sale_id)\n",
    "''')"
   ]
  },
  {
   "cell_type": "code",
   "execution_count": null,
   "id": "28e17aff-97ff-4f8a-80bf-71f9bc762319",
   "metadata": {},
   "outputs": [],
   "source": [
    "sedona.sql(f''' \n",
    "create or replace table org_catalog.{database}.clusters_gold\n",
    "SELECT\n",
    "  geometry,\n",
    "  sale_id,\n",
    "  sale_price,\n",
    "  year_built,\n",
    "  sqft,\n",
    "  mean_ndvi_500m_radius,\n",
    "  avg_school_high_achievement,\n",
    "  pw_median_income_proxy,\n",
    "  est_total_pop,\n",
    "  ST_DBSCAN(geometry, 100, 2, true) AS cluster\n",
    "FROM org_catalog.{database}.clusters_gold\n",
    "WHERE sale_price > 500000\n",
    "  AND avg_school_high_achievement > 0.40;\n",
    "''')"
   ]
  },
  {
   "cell_type": "code",
   "execution_count": null,
   "id": "ae715b98-39ce-4375-92d6-64bd21a20170",
   "metadata": {},
   "outputs": [],
   "source": [
    "sedona.sql(f'''select cluster.cluster from org_catalog.{database}.clusters_gold''').show()"
   ]
  },
  {
   "cell_type": "code",
   "execution_count": null,
   "id": "ebbfdf8b-e46b-49d0-a3fc-b8a80435a029",
   "metadata": {},
   "outputs": [],
   "source": []
  }
 ],
 "metadata": {
  "kernelspec": {
   "display_name": "Python 3 (ipykernel)",
   "language": "python",
   "name": "python3"
  },
  "language_info": {
   "codemirror_mode": {
    "name": "ipython",
    "version": 3
   },
   "file_extension": ".py",
   "mimetype": "text/x-python",
   "name": "python",
   "nbconvert_exporter": "python",
   "pygments_lexer": "ipython3",
   "version": "3.11.14"
  }
 },
 "nbformat": 4,
 "nbformat_minor": 5
}
