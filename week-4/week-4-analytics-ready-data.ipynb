{
 "cells": [
  {
   "cell_type": "code",
   "execution_count": null,
   "id": "9c9ee0e6-b8bb-409c-99dd-6bae46fa403d",
   "metadata": {},
   "outputs": [],
   "source": [
    "from sedona.spark import *\n",
    "config = SedonaContext.builder().getOrCreate()\n",
    "sedona = SedonaContext.create(config)"
   ]
  },
  {
   "cell_type": "code",
   "execution_count": null,
   "id": "c0e513a0-062d-4ce8-b554-757362b091e7",
   "metadata": {},
   "outputs": [],
   "source": [
    "database = 'gde_gold'\n",
    "sedona.sql(f'CREATE DATABASE IF NOT EXISTS org_catalog.{database}')"
   ]
  },
  {
   "cell_type": "code",
   "execution_count": null,
   "id": "d412909b-cadc-4dbd-8fcd-caed0e68c805",
   "metadata": {},
   "outputs": [],
   "source": [
    "sedona.sql(f'''\n",
    "create or replace table org_catalog.{database}.analytics_gold as\n",
    "select\n",
    "a.sale_id,\n",
    "a.overture_id,\n",
    "a.polygon as geometry,\n",
    "a.height,\n",
    "a.sale_date,\n",
    "a.sale_price,\n",
    "a.city,\n",
    "a.year_built,\n",
    "a.beds,\n",
    "a.bath_3qtr + a.bath_full + a.bath_half as total_bath,\n",
    "a.sqft,\n",
    "a.sqft_fbsmt,\n",
    "a.stories,\n",
    "b.flood_zone,\n",
    "c.distance as dist_to_major_intersection,\n",
    "d.distance as dist_to_park\n",
    "from org_catalog.gde_bronze.king_co_homes_conflated a\n",
    "left outer join org_catalog.gde_silver.homes_flood_hazards b using (sale_id)\n",
    "left outer join org_catalog.gde_silver.roads_proximity c using (sale_id)\n",
    "left outer join org_catalog.gde_silver.homes_distance_to_seattle d using (sale_id)\n",
    "''')"
   ]
  },
  {
   "cell_type": "code",
   "execution_count": null,
   "id": "fffdd033-f39d-4833-8948-a92e2f3263d5",
   "metadata": {},
   "outputs": [],
   "source": [
    "sedona.sql(f'''\n",
    "create or replace table org_catalog.{database}.analytics_home_level as\n",
    "select\n",
    "geometry,\n",
    "overture_id,\n",
    "count(sale_id) as sales_count,\n",
    "array_agg(sale_price) as price,\n",
    "array_agg(sale_date) as sale_date\n",
    "from org_catalog.{database}.analytics_gold\n",
    "group by 1, 2\n",
    "order by sale_date asc\n",
    "''')"
   ]
  },
  {
   "cell_type": "code",
   "execution_count": null,
   "id": "0ba294e4-e023-4375-a46b-725d9bc6db71",
   "metadata": {},
   "outputs": [],
   "source": [
    "sedona.sql(f'select * from org_catalog.{database}.analytics_home_level').show()"
   ]
  },
  {
   "cell_type": "code",
   "execution_count": null,
   "id": "17103215-9557-4417-9be7-3e44847f8d7d",
   "metadata": {},
   "outputs": [],
   "source": [
    "sedona.sql(f'''\n",
    "create or replace table org_catalog.{database}.ai_ready as\n",
    "with a as (select * from  org_catalog.gde_bronze.king_co_homes order by sale_date asc)\n",
    "select\n",
    "a.city,\n",
    "EXTRACT(YEAR FROM a.sale_date) AS year,\n",
    "EXTRACT(MONTH FROM a.sale_date) AS month,\n",
    "count(a.sale_id) as total_sales,\n",
    "min(a.sale_price) as min_sale_price,\n",
    "max(a.sale_price) as max_sale_price,\n",
    "avg(a.sale_price) as mean_sale_price,\n",
    "array_agg(a.sale_price) as sale_prices,\n",
    "array_agg(d.distance) as dist_to_park\n",
    "from a\n",
    "left outer join org_catalog.gde_silver.homes_distance_to_seattle d using (sale_id)\n",
    "group by 1, 2, 3\n",
    "''')"
   ]
  },
  {
   "cell_type": "code",
   "execution_count": null,
   "id": "ac26daab-2d3f-46a2-91fe-b0fb1be80428",
   "metadata": {},
   "outputs": [],
   "source": [
    "sedona.sql(f'select * from org_catalog.{database}.ai_ready').show()"
   ]
  },
  {
   "cell_type": "code",
   "execution_count": null,
   "id": "2fdf160d-00eb-4c7a-8026-f92523bd440a",
   "metadata": {},
   "outputs": [],
   "source": []
  }
 ],
 "metadata": {
  "kernelspec": {
   "display_name": "Python 3 (ipykernel)",
   "language": "python",
   "name": "python3"
  },
  "language_info": {
   "codemirror_mode": {
    "name": "ipython",
    "version": 3
   },
   "file_extension": ".py",
   "mimetype": "text/x-python",
   "name": "python",
   "nbconvert_exporter": "python",
   "pygments_lexer": "ipython3",
   "version": "3.11.14"
  }
 },
 "nbformat": 4,
 "nbformat_minor": 5
}
