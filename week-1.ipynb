{
 "cells": [
  {
   "cell_type": "code",
   "execution_count": null,
   "id": "cacaa5d7",
   "metadata": {
    "vscode": {
     "languageId": "plaintext"
    }
   },
   "outputs": [],
   "source": [
    "# Overview of geospatial data, coordinate systems and geometry types.  "
   ]
  },
  {
   "cell_type": "code",
   "execution_count": null,
   "id": "9006c89d",
   "metadata": {
    "vscode": {
     "languageId": "plaintext"
    }
   },
   "outputs": [],
   "source": [
    "from sedona.spark import *\n",
    "\n",
    "config = SedonaContext.builder().getOrCreate()\n",
    "sedona = SedonaContext.create(config)"
   ]
  },
  {
   "cell_type": "code",
   "execution_count": null,
   "id": "e78e0763",
   "metadata": {
    "vscode": {
     "languageId": "plaintext"
    }
   },
   "outputs": [],
   "source": [
    "# Read and create basic data frames  - Pranav\n",
    "\n",
    "sedona.read"
   ]
  },
  {
   "cell_type": "code",
   "execution_count": null,
   "id": "9246ee42",
   "metadata": {
    "vscode": {
     "languageId": "plaintext"
    }
   },
   "outputs": [],
   "source": [
    "# Vector drivers  - Pranav\n",
    "\n",
    "# GeoJSON\n",
    "# CSV\n",
    "# Shapefile\n",
    "\n",
    "# Show others in comments"
   ]
  },
  {
   "cell_type": "code",
   "execution_count": null,
   "id": "cf9e1a44",
   "metadata": {
    "vscode": {
     "languageId": "plaintext"
    }
   },
   "outputs": [],
   "source": [
    "# Raster - Pranav\n",
    "\n",
    "# Raster\n",
    "\n",
    "# Show others"
   ]
  },
  {
   "cell_type": "code",
   "execution_count": null,
   "id": "26c85572",
   "metadata": {
    "vscode": {
     "languageId": "plaintext"
    }
   },
   "outputs": [],
   "source": [
    "# Intro to cloud native formats - Pranav\n",
    "\n",
    "# Demo the speed on this \n",
    "# COG from LANDSAT - STAC"
   ]
  },
  {
   "cell_type": "code",
   "execution_count": null,
   "id": "e45d41f0",
   "metadata": {
    "vscode": {
     "languageId": "plaintext"
    }
   },
   "outputs": [],
   "source": [
    "# Intro to Iceberg - Pranav"
   ]
  },
  {
   "cell_type": "code",
   "execution_count": null,
   "id": "8fba1939",
   "metadata": {
    "vscode": {
     "languageId": "plaintext"
    }
   },
   "outputs": [],
   "source": [
    "# Transforming data with non-native readers - in slides"
   ]
  },
  {
   "cell_type": "code",
   "execution_count": null,
   "id": "a94d5674",
   "metadata": {
    "vscode": {
     "languageId": "plaintext"
    }
   },
   "outputs": [],
   "source": [
    "# Wherobots Fundamentals - Constructing Geometries - Furqaan"
   ]
  },
  {
   "cell_type": "code",
   "execution_count": null,
   "id": "7454b482",
   "metadata": {
    "vscode": {
     "languageId": "plaintext"
    }
   },
   "outputs": [],
   "source": [
    "# Wherobots Fundamentals - Spatial predicates  - Furqaan"
   ]
  },
  {
   "cell_type": "code",
   "execution_count": null,
   "id": "34648efc",
   "metadata": {
    "vscode": {
     "languageId": "plaintext"
    }
   },
   "outputs": [],
   "source": [
    "# Wherobots Fundamentals - Range joins - Furqaan"
   ]
  },
  {
   "cell_type": "code",
   "execution_count": null,
   "id": "62fbfc11",
   "metadata": {
    "vscode": {
     "languageId": "plaintext"
    }
   },
   "outputs": [],
   "source": [
    "# create and manage Havasu (Iceberg) tables for vector and raster data  - Furqaan"
   ]
  },
  {
   "cell_type": "code",
   "execution_count": null,
   "id": "5cf2ec1a",
   "metadata": {
    "vscode": {
     "languageId": "plaintext"
    }
   },
   "outputs": [],
   "source": [
    "# Data validity checks - Matt"
   ]
  },
  {
   "cell_type": "code",
   "execution_count": null,
   "id": "384c5eeb",
   "metadata": {
    "vscode": {
     "languageId": "plaintext"
    }
   },
   "outputs": [],
   "source": [
    "# Handling and transforming CRS - Matt"
   ]
  },
  {
   "cell_type": "code",
   "execution_count": null,
   "id": "a5d489c6",
   "metadata": {
    "vscode": {
     "languageId": "plaintext"
    }
   },
   "outputs": [],
   "source": [
    "# Dataset loading - aka load all datasets to tables - Matt"
   ]
  }
 ],
 "metadata": {
  "language_info": {
   "name": "python"
  }
 },
 "nbformat": 4,
 "nbformat_minor": 5
}
