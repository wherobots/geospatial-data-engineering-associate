{
 "cells": [
  {
   "cell_type": "code",
   "execution_count": null,
   "id": "cacaa5d7",
   "metadata": {
    "vscode": {
     "languageId": "plaintext"
    }
   },
   "outputs": [],
   "source": [
    "# Overview of geospatial data, coordinate systems and geometry types.  "
   ]
  },
  {
   "cell_type": "code",
   "execution_count": 2,
   "id": "9006c89d",
   "metadata": {
    "execution": {
     "iopub.execute_input": "2025-09-30T18:02:13.371066Z",
     "iopub.status.busy": "2025-09-30T18:02:13.370848Z",
     "iopub.status.idle": "2025-09-30T18:03:44.193385Z",
     "shell.execute_reply": "2025-09-30T18:03:44.192493Z",
     "shell.execute_reply.started": "2025-09-30T18:02:13.371050Z"
    },
    "vscode": {
     "languageId": "plaintext"
    }
   },
   "outputs": [
    {
     "name": "stderr",
     "output_type": "stream",
     "text": [
      "Setting default log level to \"WARN\".\n",
      "To adjust logging level use sc.setLogLevel(newLevel). For SparkR, use setLogLevel(newLevel).\n",
      "                                                                                \r"
     ]
    }
   ],
   "source": [
    "from sedona.spark import *\n",
    "from sedona.sql.functions import st_isvalid, st_isvalidreason, st_makevalid\n",
    "from pyspark.sql import DataFrame\n",
    "from pyspark.sql.functions import col, when\n",
    "\n",
    "\n",
    "config = SedonaContext.builder().getOrCreate()\n",
    "sedona = SedonaContext.create(config)"
   ]
  },
  {
   "cell_type": "code",
   "execution_count": 19,
   "id": "2e45a109-8ccf-491f-9902-b8d2e185b025",
   "metadata": {
    "execution": {
     "iopub.execute_input": "2025-09-30T18:18:29.809907Z",
     "iopub.status.busy": "2025-09-30T18:18:29.809687Z",
     "iopub.status.idle": "2025-09-30T18:18:29.812435Z",
     "shell.execute_reply": "2025-09-30T18:18:29.812062Z",
     "shell.execute_reply.started": "2025-09-30T18:18:29.809878Z"
    }
   },
   "outputs": [],
   "source": [
    "from sedona.sql.st_functions import ST_IsValid, ST_IsValidReason, ST_MakeValid\n",
    "from pyspark.sql import DataFrame\n",
    "from pyspark.sql.functions import col, when\n"
   ]
  },
  {
   "cell_type": "code",
   "execution_count": null,
   "id": "e78e0763",
   "metadata": {
    "vscode": {
     "languageId": "plaintext"
    }
   },
   "outputs": [],
   "source": [
    "# Read and create basic data frames  - Pranav\n",
    "\n",
    "sedona.read"
   ]
  },
  {
   "cell_type": "code",
   "execution_count": null,
   "id": "9246ee42",
   "metadata": {
    "vscode": {
     "languageId": "plaintext"
    }
   },
   "outputs": [],
   "source": [
    "# Vector drivers  - Pranav\n",
    "\n",
    "# GeoJSON\n",
    "# CSV\n",
    "# Shapefile\n",
    "\n",
    "# Show others in comments"
   ]
  },
  {
   "cell_type": "code",
   "execution_count": null,
   "id": "cf9e1a44",
   "metadata": {
    "vscode": {
     "languageId": "plaintext"
    }
   },
   "outputs": [],
   "source": [
    "# Raster - Pranav\n",
    "\n",
    "# Raster\n",
    "\n",
    "# Show others"
   ]
  },
  {
   "cell_type": "code",
   "execution_count": null,
   "id": "26c85572",
   "metadata": {
    "vscode": {
     "languageId": "plaintext"
    }
   },
   "outputs": [],
   "source": [
    "# Intro to cloud native formats - Pranav\n",
    "\n",
    "# Demo the speed on this \n",
    "# COG from LANDSAT - STAC"
   ]
  },
  {
   "cell_type": "code",
   "execution_count": null,
   "id": "e45d41f0",
   "metadata": {
    "vscode": {
     "languageId": "plaintext"
    }
   },
   "outputs": [],
   "source": [
    "# Intro to Iceberg - Pranav"
   ]
  },
  {
   "cell_type": "code",
   "execution_count": null,
   "id": "8fba1939",
   "metadata": {
    "vscode": {
     "languageId": "plaintext"
    }
   },
   "outputs": [],
   "source": [
    "# Transforming data with non-native readers - in slides"
   ]
  },
  {
   "cell_type": "code",
   "execution_count": null,
   "id": "a94d5674",
   "metadata": {
    "vscode": {
     "languageId": "plaintext"
    }
   },
   "outputs": [],
   "source": [
    "# Wherobots Fundamentals - Constructing Geometries - Furqaan"
   ]
  },
  {
   "cell_type": "code",
   "execution_count": null,
   "id": "7454b482",
   "metadata": {
    "vscode": {
     "languageId": "plaintext"
    }
   },
   "outputs": [],
   "source": [
    "# Wherobots Fundamentals - Spatial predicates  - Furqaan"
   ]
  },
  {
   "cell_type": "code",
   "execution_count": null,
   "id": "34648efc",
   "metadata": {
    "vscode": {
     "languageId": "plaintext"
    }
   },
   "outputs": [],
   "source": [
    "# Wherobots Fundamentals - Range joins - Furqaan"
   ]
  },
  {
   "cell_type": "code",
   "execution_count": null,
   "id": "62fbfc11",
   "metadata": {
    "vscode": {
     "languageId": "plaintext"
    }
   },
   "outputs": [],
   "source": [
    "# create and manage Havasu (Iceberg) tables for vector and raster data  - Furqaan"
   ]
  },
  {
   "cell_type": "markdown",
   "id": "8f13332e",
   "metadata": {},
   "source": [
    "# Data validity checks\n",
    "\n",
    "Two of the most common issues with geospatial data include managing projections or Coordinate Reference Systems (CRS) and ensuring geometries are valid.\n",
    "\n",
    "- A geometry is invalid if it violates spatial rules like self-intersections, unclosed rings, misaligned holes, or overlapping parts—making it topologically incorrect.\n",
    "- Spatial files generally contain a Coordinate Reference System or CRS that is defined by a Spatial Reference ID or SRID. This tells us how the data is projected from the round spheroid of the earth onto a flat surface.\n",
    "\n",
    "To fix these issues and ensure our data is valid and in the correct format we use two approaches:\n",
    "\n",
    "1. Check the geometries for any invalidities, and if there are attempt to fix them using `ST_IsValid`, `ST_IsValidDetail`, and `ST_MakeValid`\n",
    "2. Remove or log out any geometries that cannot be fixed\n",
    "3. Standardize our geometries in a single CRS, in this case [EPSG:4326](https://epsg.io/4326) which renders in a coordinate reference system"
   ]
  },
  {
   "cell_type": "markdown",
   "id": "54fb11ae",
   "metadata": {},
   "source": [
    "## Validating geometries"
   ]
  },
  {
   "cell_type": "code",
   "execution_count": null,
   "id": "5cf2ec1a",
   "metadata": {
    "vscode": {
     "languageId": "plaintext"
    }
   },
   "outputs": [],
   "source": [
    "# Data validity checks - Matt"
   ]
  },
  {
   "cell_type": "markdown",
   "id": "b016f7b1-3efc-40ca-8eb4-502ae60f1d33",
   "metadata": {
    "vscode": {
     "languageId": "plaintext"
    }
   },
   "source": [
    "## Transforming CRS"
   ]
  },
  {
   "cell_type": "code",
   "execution_count": null,
   "id": "384c5eeb",
   "metadata": {
    "vscode": {
     "languageId": "plaintext"
    }
   },
   "outputs": [],
   "source": [
    "# Handling and transforming CRS - Matt"
   ]
  },
  {
   "cell_type": "code",
   "execution_count": null,
   "id": "a5d489c6",
   "metadata": {
    "vscode": {
     "languageId": "plaintext"
    }
   },
   "outputs": [],
   "source": [
    "# Dataset loading - aka load all datasets to tables - Matt"
   ]
  },
  {
   "cell_type": "markdown",
   "id": "165d277b",
   "metadata": {},
   "source": [
    "# Loading datasets into WherobotsDB"
   ]
  },
  {
   "cell_type": "code",
   "execution_count": 3,
   "id": "3b71f7ea",
   "metadata": {
    "execution": {
     "iopub.execute_input": "2025-09-30T18:05:03.075043Z",
     "iopub.status.busy": "2025-09-30T18:05:03.074715Z",
     "iopub.status.idle": "2025-09-30T18:05:03.078486Z",
     "shell.execute_reply": "2025-09-30T18:05:03.077493Z",
     "shell.execute_reply.started": "2025-09-30T18:05:03.075025Z"
    },
    "vscode": {
     "languageId": "plaintext"
    }
   },
   "outputs": [],
   "source": [
    "prefix = 's3://wherobots-examples/gdea-course-data/raw-data/'\n",
    "database = 'gde_bronze'"
   ]
  },
  {
   "cell_type": "code",
   "execution_count": 12,
   "id": "cf1c469e",
   "metadata": {
    "execution": {
     "iopub.execute_input": "2025-09-30T17:31:45.857777Z",
     "iopub.status.busy": "2025-09-30T17:31:45.857570Z",
     "iopub.status.idle": "2025-09-30T17:31:45.899065Z",
     "shell.execute_reply": "2025-09-30T17:31:45.898734Z",
     "shell.execute_reply.started": "2025-09-30T17:31:45.857762Z"
    },
    "vscode": {
     "languageId": "plaintext"
    }
   },
   "outputs": [
    {
     "data": {
      "text/plain": [
       "DataFrame[]"
      ]
     },
     "execution_count": 12,
     "metadata": {},
     "output_type": "execute_result"
    }
   ],
   "source": [
    "sedona.sql(f'CREATE DATABASE IF NOT EXISTS wherobots.{database}')"
   ]
  },
  {
   "cell_type": "code",
   "execution_count": 26,
   "id": "958cc513-5569-413a-9ede-3f5c0e586a4f",
   "metadata": {
    "execution": {
     "iopub.execute_input": "2025-09-30T18:23:33.058611Z",
     "iopub.status.busy": "2025-09-30T18:23:33.058407Z",
     "iopub.status.idle": "2025-09-30T18:23:33.065738Z",
     "shell.execute_reply": "2025-09-30T18:23:33.065037Z",
     "shell.execute_reply.started": "2025-09-30T18:23:33.058596Z"
    }
   },
   "outputs": [],
   "source": [
    "def check_invalid_geometries(df: DataFrame, geom_col: str = \"geom\", reason_col: str = \"why_invalid\") -> int:\n",
    "    df_with_reason = df.withColumn(reason_col, ST_IsValidReason(col(geom_col)))\n",
    "    # cache to avoid recomputation if you inspect reasons later\n",
    "    df_with_reason.cache()\n",
    "    invalid_count = df_with_reason.filter(~ST_IsValid(col(geom_col))).count()\n",
    "    print(f\"✅ Checked geometries — found {invalid_count} invalid geometries.\")\n",
    "    return invalid_count\n",
    "\n",
    "def fix_invalid_geometries(df: DataFrame, invalid_count: int, geom_col: str = \"geom\") -> DataFrame:\n",
    "    if invalid_count > 1:\n",
    "        print(f\"🔧 Attempting to fix {invalid_count} invalid geometries...\")\n",
    "        return df.withColumn(\n",
    "            geom_col,\n",
    "            when(~ST_IsValid(col(geom_col)), ST_MakeValid(col(geom_col))).otherwise(col(geom_col))\n",
    "        )\n",
    "    else:\n",
    "        print(\"⚡ Only one invalid geometry (or none). Skipping automated fix.\")\n",
    "        return df\n",
    "\n",
    "# --- driver program ---\n",
    "def process_geometries(\n",
    "    df: DataFrame,\n",
    "    geom_col: str = \"geom\",\n",
    "    attempt_fix: bool = True,\n",
    "    split_on_fail: bool = True\n",
    "):\n",
    "    \"\"\"\n",
    "    Runs validity check -> optional repair -> optional split.\n",
    "    Returns either:\n",
    "      - {\"df\": corrected_df}  when all geometries valid after repair (or none invalid)\n",
    "      - {\"valid_df\": ..., \"invalid_df\": ...} when some invalid remain and split_on_fail=True\n",
    "    \"\"\"\n",
    "    # 1) Initial check\n",
    "    invalid_count = check_invalid_geometries(df, geom_col=geom_col)\n",
    "\n",
    "    if invalid_count == 0:\n",
    "        print(\"✅ All geometries are valid.\")\n",
    "        return {\"df\": df}  # nothing to do\n",
    "\n",
    "    # 2) Attempt repair (only changes rows that are invalid per your earlier contract)\n",
    "    if attempt_fix:\n",
    "        df_fixed = fix_invalid_geometries(df, invalid_count, geom_col=geom_col)\n",
    "        remaining_invalid_count = df_fixed.filter(~ST_IsValid(col(geom_col))).count()\n",
    "        print(f\"🔎 After fixing, {remaining_invalid_count} invalid geometries remain.\")\n",
    "    \n",
    "        if remaining_invalid_count == 0:\n",
    "            print(\"✅ All geometries are valid after fixing.\")\n",
    "            return {\"df\": df_fixed}\n",
    "        elif split_on_fail:\n",
    "            print(\"⚠️ Some invalid geometries remain — splitting dataset.\")\n",
    "            valid_df = df_fixed.filter(ST_IsValid(col(geom_col)))\n",
    "            invalid_df = df_fixed.filter(~ST_IsValid(col(geom_col)))\n",
    "            print(f\"✅ Split complete: {valid_df.count()} valid / {invalid_df.count()} invalid.\")\n",
    "            return {\"valid_df\": valid_df, \"invalid_df\": invalid_df}\n",
    "        else:\n",
    "            print(\"⚠️ Some invalid geometries remain, returning best-effort fixed DataFrame.\")\n",
    "            return {\"df\": df_fixed}\n",
    "    \n",
    "    # If no fix attempt, just split if requested\n",
    "    if split_on_fail:\n",
    "        print(\"⚠️ Skipping fix — splitting into valid and invalid.\")\n",
    "        valid_df = df.filter(ST_IsValid(col(geom_col)))\n",
    "        invalid_df = df.filter(~ST_IsValid(col(geom_col)))\n",
    "        print(f\"✅ Split complete: {valid_df.count()} valid / {invalid_df.count()} invalid.\")\n",
    "        return {\"valid_df\": valid_df, \"invalid_df\": invalid_df}\n",
    "    \n",
    "    print(\"⚠️ Invalid geometries found but no fix or split requested. Returning original DataFrame.\")\n",
    "    return {\"df\": df}"
   ]
  },
  {
   "cell_type": "code",
   "execution_count": 27,
   "id": "e34a2ada-50cd-4bc8-aeb9-4ffc5aa5ef0e",
   "metadata": {
    "execution": {
     "iopub.execute_input": "2025-09-30T18:23:34.032284Z",
     "iopub.status.busy": "2025-09-30T18:23:34.032079Z",
     "iopub.status.idle": "2025-09-30T18:23:35.286794Z",
     "shell.execute_reply": "2025-09-30T18:23:35.286337Z",
     "shell.execute_reply.started": "2025-09-30T18:23:34.032269Z"
    }
   },
   "outputs": [
    {
     "name": "stderr",
     "output_type": "stream",
     "text": [
      "                                                                                \r"
     ]
    }
   ],
   "source": [
    "# FEMA Flood Hazard Areas\n",
    "fld_hazard_area = sedona.read.format('shapefile').load(f'{prefix}' + '53033C_20250330/S_FLD_HAZ_AR.shp')"
   ]
  },
  {
   "cell_type": "code",
   "execution_count": 40,
   "id": "fc0531c3-b464-426a-b6c2-d4cc2243f0bd",
   "metadata": {
    "execution": {
     "iopub.execute_input": "2025-09-30T18:43:28.218185Z",
     "iopub.status.busy": "2025-09-30T18:43:28.217980Z",
     "iopub.status.idle": "2025-09-30T18:43:32.280299Z",
     "shell.execute_reply": "2025-09-30T18:43:32.279877Z",
     "shell.execute_reply.started": "2025-09-30T18:43:28.218170Z"
    },
    "scrolled": true
   },
   "outputs": [
    {
     "name": "stderr",
     "output_type": "stream",
     "text": [
      "25/09/30 18:43:28 WARN CacheManager: Asked to cache already cached data.\n"
     ]
    },
    {
     "name": "stdout",
     "output_type": "stream",
     "text": [
      "✅ Checked geometries — found 15 invalid geometries.\n",
      "🔧 Attempting to fix 15 invalid geometries...\n"
     ]
    },
    {
     "name": "stderr",
     "output_type": "stream",
     "text": [
      "[Stage 37:>                                                         (0 + 1) / 1]\r"
     ]
    },
    {
     "name": "stdout",
     "output_type": "stream",
     "text": [
      "🔎 After fixing, 0 invalid geometries remain.\n",
      "✅ All geometries are valid after fixing.\n"
     ]
    },
    {
     "name": "stderr",
     "output_type": "stream",
     "text": [
      "                                                                                \r"
     ]
    }
   ],
   "source": [
    "result = process_geometries(fld_hazard_area, geom_col=\"geometry\", attempt_fix=True, split_on_fail=True)\n",
    "\n",
    "if \"df\" in result:\n",
    "    df_final = result[\"df\"]  # all valid (either already valid or successfully repaired)\n",
    "else:\n",
    "    valid_df = result[\"valid_df\"]\n",
    "    invalid_df = result[\"invalid_df\"]\n",
    "    # handle invalids (e.g., export for manual review)(fld_hazard_area, 'geometry')"
   ]
  },
  {
   "cell_type": "code",
   "execution_count": 41,
   "id": "654d631f-9d25-47ee-be41-b2480ef9018b",
   "metadata": {
    "execution": {
     "iopub.execute_input": "2025-09-30T18:43:35.309951Z",
     "iopub.status.busy": "2025-09-30T18:43:35.309729Z",
     "iopub.status.idle": "2025-09-30T18:43:37.712061Z",
     "shell.execute_reply": "2025-09-30T18:43:37.711481Z",
     "shell.execute_reply.started": "2025-09-30T18:43:35.309935Z"
    }
   },
   "outputs": [
    {
     "name": "stderr",
     "output_type": "stream",
     "text": [
      "                                                                                \r"
     ]
    }
   ],
   "source": [
    "df_final.writeTo(f\"wherobots.{database}.fema_flood_zones_bronze\").createOrReplace()"
   ]
  },
  {
   "cell_type": "code",
   "execution_count": 42,
   "id": "80c6b264-da6b-4a4e-bc4f-4e1ad86896da",
   "metadata": {
    "execution": {
     "iopub.execute_input": "2025-09-30T18:43:37.712886Z",
     "iopub.status.busy": "2025-09-30T18:43:37.712755Z",
     "iopub.status.idle": "2025-09-30T18:43:38.893841Z",
     "shell.execute_reply": "2025-09-30T18:43:38.893503Z",
     "shell.execute_reply.started": "2025-09-30T18:43:37.712870Z"
    }
   },
   "outputs": [
    {
     "name": "stderr",
     "output_type": "stream",
     "text": [
      "                                                                                \r"
     ]
    }
   ],
   "source": [
    "# King County Generalized Land Use Data\n",
    "gen_land_use = sedona.read.format('shapefile').load(f'{prefix}' + 'General_Land_Use_Final_Dataset/General_Land_Use_Final_Dataset.shp')"
   ]
  },
  {
   "cell_type": "code",
   "execution_count": 43,
   "id": "149331f3-509d-4c99-bc02-60320289d3ca",
   "metadata": {
    "execution": {
     "iopub.execute_input": "2025-09-30T18:43:38.894456Z",
     "iopub.status.busy": "2025-09-30T18:43:38.894338Z",
     "iopub.status.idle": "2025-09-30T18:44:48.020339Z",
     "shell.execute_reply": "2025-09-30T18:44:48.019878Z",
     "shell.execute_reply.started": "2025-09-30T18:43:38.894444Z"
    }
   },
   "outputs": [
    {
     "name": "stderr",
     "output_type": "stream",
     "text": [
      "                                                                                \r"
     ]
    },
    {
     "name": "stdout",
     "output_type": "stream",
     "text": [
      "✅ Checked geometries — found 2987 invalid geometries.\n",
      "🔧 Attempting to fix 2987 invalid geometries...\n"
     ]
    },
    {
     "name": "stderr",
     "output_type": "stream",
     "text": [
      "[Stage 46:>                                                         (0 + 1) / 1]\r"
     ]
    },
    {
     "name": "stdout",
     "output_type": "stream",
     "text": [
      "🔎 After fixing, 0 invalid geometries remain.\n",
      "✅ All geometries are valid after fixing.\n"
     ]
    },
    {
     "name": "stderr",
     "output_type": "stream",
     "text": [
      "                                                                                \r"
     ]
    }
   ],
   "source": [
    "result = process_geometries(gen_land_use, geom_col=\"geometry\", attempt_fix=True, split_on_fail=True)\n",
    "\n",
    "if \"df\" in result:\n",
    "    df_final = result[\"df\"]  # all valid (either already valid or successfully repaired)\n",
    "else:\n",
    "    valid_df = result[\"valid_df\"]\n",
    "    invalid_df = result[\"invalid_df\"]\n",
    "    # handle invalids (e.g., export for manual review)(fld_hazard_area, 'geometry')"
   ]
  },
  {
   "cell_type": "code",
   "execution_count": 44,
   "id": "19728834-c881-41e2-8449-8737f47343cb",
   "metadata": {
    "execution": {
     "iopub.execute_input": "2025-09-30T18:44:48.021152Z",
     "iopub.status.busy": "2025-09-30T18:44:48.021004Z",
     "iopub.status.idle": "2025-09-30T18:45:31.819161Z",
     "shell.execute_reply": "2025-09-30T18:45:31.818717Z",
     "shell.execute_reply.started": "2025-09-30T18:44:48.021140Z"
    }
   },
   "outputs": [
    {
     "name": "stderr",
     "output_type": "stream",
     "text": [
      "                                                                                \r"
     ]
    }
   ],
   "source": [
    "valid_df.writeTo(f\"wherobots.{database}.gen_land_use_bronze\").createOrReplace()"
   ]
  },
  {
   "cell_type": "code",
   "execution_count": 45,
   "id": "0bd61b53-a501-4144-a796-cf3d8859163a",
   "metadata": {
    "execution": {
     "iopub.execute_input": "2025-09-30T18:50:41.225455Z",
     "iopub.status.busy": "2025-09-30T18:50:41.225255Z",
     "iopub.status.idle": "2025-09-30T18:50:42.449358Z",
     "shell.execute_reply": "2025-09-30T18:50:42.448917Z",
     "shell.execute_reply.started": "2025-09-30T18:50:41.225439Z"
    }
   },
   "outputs": [
    {
     "name": "stderr",
     "output_type": "stream",
     "text": [
      "                                                                                \r"
     ]
    }
   ],
   "source": [
    "# King County Sherrif Patrol Districts\n",
    "sherrif_districts = sedona.read.format('shapefile').load(f'{prefix}' + 'King_County_Sheriff_Patrol_Districts___patrol_districts_area/King_County_Sheriff_Patrol_Districts___patrol_districts_area.shp')"
   ]
  },
  {
   "cell_type": "code",
   "execution_count": 46,
   "id": "542baeea-ee1b-4386-bd8b-6556666dbe62",
   "metadata": {
    "execution": {
     "iopub.execute_input": "2025-09-30T18:51:21.944727Z",
     "iopub.status.busy": "2025-09-30T18:51:21.944526Z",
     "iopub.status.idle": "2025-09-30T18:51:29.889185Z",
     "shell.execute_reply": "2025-09-30T18:51:29.888755Z",
     "shell.execute_reply.started": "2025-09-30T18:51:21.944713Z"
    }
   },
   "outputs": [
    {
     "name": "stderr",
     "output_type": "stream",
     "text": [
      "[Stage 51:>                                                         (0 + 1) / 1]\r"
     ]
    },
    {
     "name": "stdout",
     "output_type": "stream",
     "text": [
      "✅ Checked geometries — found 0 invalid geometries.\n",
      "✅ All geometries are valid.\n"
     ]
    },
    {
     "name": "stderr",
     "output_type": "stream",
     "text": [
      "                                                                                \r"
     ]
    }
   ],
   "source": [
    "result = process_geometries(sherrif_districts, geom_col=\"geometry\", attempt_fix=True, split_on_fail=True)\n",
    "\n",
    "if \"df\" in result:\n",
    "    df_final = result[\"df\"]  # all valid (either already valid or successfully repaired)\n",
    "else:\n",
    "    valid_df = result[\"valid_df\"]\n",
    "    invalid_df = result[\"invalid_df\"]\n",
    "    # handle invalids (e.g., export for manual review)(fld_hazard_area, 'geometry')"
   ]
  },
  {
   "cell_type": "code",
   "execution_count": 47,
   "id": "6ab6769b-9897-4635-ac15-450d10cf6b2f",
   "metadata": {
    "execution": {
     "iopub.execute_input": "2025-09-30T18:51:47.848794Z",
     "iopub.status.busy": "2025-09-30T18:51:47.848561Z",
     "iopub.status.idle": "2025-09-30T18:51:57.211178Z",
     "shell.execute_reply": "2025-09-30T18:51:57.210175Z",
     "shell.execute_reply.started": "2025-09-30T18:51:47.848779Z"
    }
   },
   "outputs": [
    {
     "name": "stderr",
     "output_type": "stream",
     "text": [
      "                                                                                \r"
     ]
    }
   ],
   "source": [
    "df_final.writeTo(f\"wherobots.{database}.sherrif_districts_bronze\").createOrReplace()"
   ]
  },
  {
   "cell_type": "code",
   "execution_count": 48,
   "id": "38a27b67-613c-4793-99c2-a0d8c82efa23",
   "metadata": {
    "execution": {
     "iopub.execute_input": "2025-09-30T18:51:57.211971Z",
     "iopub.status.busy": "2025-09-30T18:51:57.211859Z",
     "iopub.status.idle": "2025-09-30T18:51:57.772699Z",
     "shell.execute_reply": "2025-09-30T18:51:57.771921Z",
     "shell.execute_reply.started": "2025-09-30T18:51:57.211959Z"
    }
   },
   "outputs": [],
   "source": [
    "offense_reports = sedona.read.format('csv').load(f'{prefix}' + 'KCSO_Offense_Reports__2020_to_Present_20250923.csv')"
   ]
  },
  {
   "cell_type": "code",
   "execution_count": 49,
   "id": "f367d35a-e5e0-4a94-a5ea-4542a2030e93",
   "metadata": {
    "execution": {
     "iopub.execute_input": "2025-09-30T18:52:03.463579Z",
     "iopub.status.busy": "2025-09-30T18:52:03.463372Z",
     "iopub.status.idle": "2025-09-30T18:52:06.601453Z",
     "shell.execute_reply": "2025-09-30T18:52:06.600785Z",
     "shell.execute_reply.started": "2025-09-30T18:52:03.463565Z"
    }
   },
   "outputs": [
    {
     "name": "stderr",
     "output_type": "stream",
     "text": [
      "                                                                                \r"
     ]
    }
   ],
   "source": [
    "offense_reports.writeTo(f\"wherobots.{database}.offense_reports_bronze\").createOrReplace()"
   ]
  },
  {
   "cell_type": "code",
   "execution_count": 50,
   "id": "a01f89e6-6075-4a93-9703-4cc040292382",
   "metadata": {
    "execution": {
     "iopub.execute_input": "2025-09-30T18:53:16.841249Z",
     "iopub.status.busy": "2025-09-30T18:53:16.841042Z",
     "iopub.status.idle": "2025-09-30T18:53:17.291763Z",
     "shell.execute_reply": "2025-09-30T18:53:17.291106Z",
     "shell.execute_reply.started": "2025-09-30T18:53:16.841235Z"
    }
   },
   "outputs": [],
   "source": [
    "# King County Bike Lanes\n",
    "bike_lanes = sedona.read.format('shapefile').load(f'{prefix}' + 'Metro_Transportation_Network_(TNET)_in_King_County_for_Bicycle_Mode___trans_network_bike_line/Metro_Transportation_Network_(TNET)_in_King_County_for_Bicycle_Mode___trans_network_bike_line.shp')"
   ]
  },
  {
   "cell_type": "code",
   "execution_count": 51,
   "id": "09b6ddae-a8d2-4e7b-9d1a-f2467088f197",
   "metadata": {
    "execution": {
     "iopub.execute_input": "2025-09-30T18:53:22.718728Z",
     "iopub.status.busy": "2025-09-30T18:53:22.718497Z",
     "iopub.status.idle": "2025-09-30T18:53:34.581955Z",
     "shell.execute_reply": "2025-09-30T18:53:34.581521Z",
     "shell.execute_reply.started": "2025-09-30T18:53:22.718711Z"
    }
   },
   "outputs": [
    {
     "name": "stderr",
     "output_type": "stream",
     "text": [
      "[Stage 59:>                                                         (0 + 1) / 1]\r"
     ]
    },
    {
     "name": "stdout",
     "output_type": "stream",
     "text": [
      "✅ Checked geometries — found 0 invalid geometries.\n",
      "✅ All geometries are valid.\n"
     ]
    },
    {
     "name": "stderr",
     "output_type": "stream",
     "text": [
      "                                                                                \r"
     ]
    }
   ],
   "source": [
    "result = process_geometries(bike_lanes, geom_col=\"geometry\", attempt_fix=True, split_on_fail=True)\n",
    "\n",
    "if \"df\" in result:\n",
    "    df_final = result[\"df\"]  # all valid (either already valid or successfully repaired)\n",
    "else:\n",
    "    valid_df = result[\"valid_df\"]\n",
    "    invalid_df = result[\"invalid_df\"]\n",
    "    # handle invalids (e.g., export for manual review)(fld_hazard_area, 'geometry')"
   ]
  },
  {
   "cell_type": "code",
   "execution_count": 52,
   "id": "ac773691-ecaa-46f4-8b01-8407b9059015",
   "metadata": {
    "execution": {
     "iopub.execute_input": "2025-09-30T18:53:41.887141Z",
     "iopub.status.busy": "2025-09-30T18:53:41.886938Z",
     "iopub.status.idle": "2025-09-30T18:53:52.253464Z",
     "shell.execute_reply": "2025-09-30T18:53:52.253064Z",
     "shell.execute_reply.started": "2025-09-30T18:53:41.887125Z"
    }
   },
   "outputs": [
    {
     "name": "stderr",
     "output_type": "stream",
     "text": [
      "                                                                                \r"
     ]
    }
   ],
   "source": [
    "df_final.writeTo(f\"wherobots.{database}.bike_lanes_bronze\").createOrReplace()"
   ]
  },
  {
   "cell_type": "code",
   "execution_count": 53,
   "id": "5929ef8b-0ff9-4178-8d12-f529297945de",
   "metadata": {
    "execution": {
     "iopub.execute_input": "2025-09-30T18:56:46.162425Z",
     "iopub.status.busy": "2025-09-30T18:56:46.162221Z",
     "iopub.status.idle": "2025-09-30T18:56:46.677148Z",
     "shell.execute_reply": "2025-09-30T18:56:46.676716Z",
     "shell.execute_reply.started": "2025-09-30T18:56:46.162410Z"
    }
   },
   "outputs": [],
   "source": [
    "# FEMA National Risk Index\n",
    "fema_nri = sedona.read.format('shapefile').load(f'{prefix}' + 'NRI_Shapefile_CensusTracts/NRI_Shapefile_CensusTracts.shp')"
   ]
  },
  {
   "cell_type": "code",
   "execution_count": 56,
   "id": "6b6568ac-091f-4675-a7f7-92e40da1f2b0",
   "metadata": {
    "execution": {
     "iopub.execute_input": "2025-09-30T19:01:47.267173Z",
     "iopub.status.busy": "2025-09-30T19:01:47.266954Z",
     "iopub.status.idle": "2025-09-30T19:02:14.940079Z",
     "shell.execute_reply": "2025-09-30T19:02:14.939623Z",
     "shell.execute_reply.started": "2025-09-30T19:01:47.267158Z"
    }
   },
   "outputs": [
    {
     "name": "stderr",
     "output_type": "stream",
     "text": [
      "25/09/30 19:01:47 WARN CacheManager: Asked to cache already cached data.\n",
      "                                                                                \r"
     ]
    },
    {
     "name": "stdout",
     "output_type": "stream",
     "text": [
      "✅ Checked geometries — found 82 invalid geometries.\n",
      "🔧 Attempting to fix 82 invalid geometries...\n"
     ]
    },
    {
     "name": "stderr",
     "output_type": "stream",
     "text": [
      "[Stage 75:>                                                         (0 + 1) / 1]\r"
     ]
    },
    {
     "name": "stdout",
     "output_type": "stream",
     "text": [
      "🔎 After fixing, 0 invalid geometries remain.\n",
      "✅ All geometries are valid after fixing.\n"
     ]
    },
    {
     "name": "stderr",
     "output_type": "stream",
     "text": [
      "                                                                                \r"
     ]
    }
   ],
   "source": [
    "result = process_geometries(fema_nri, geom_col=\"geometry\", attempt_fix=True, split_on_fail=True)\n",
    "\n",
    "if \"df\" in result:\n",
    "    df_final = result[\"df\"]  # all valid (either already valid or successfully repaired)\n",
    "else:\n",
    "    valid_df = result[\"valid_df\"]\n",
    "    invalid_df = result[\"invalid_df\"]\n",
    "    # handle invalids (e.g., export for manual review)(fld_hazard_area, 'geometry')"
   ]
  },
  {
   "cell_type": "code",
   "execution_count": 57,
   "id": "35e82d32-ce21-42b3-8589-48cc16998186",
   "metadata": {
    "execution": {
     "iopub.execute_input": "2025-09-30T19:02:14.940892Z",
     "iopub.status.busy": "2025-09-30T19:02:14.940774Z",
     "iopub.status.idle": "2025-09-30T19:03:20.925754Z",
     "shell.execute_reply": "2025-09-30T19:03:20.925227Z",
     "shell.execute_reply.started": "2025-09-30T19:02:14.940880Z"
    }
   },
   "outputs": [
    {
     "name": "stderr",
     "output_type": "stream",
     "text": [
      "25/09/30 19:19:03 WARN ExecutorPodsWatchSnapshotSource: Kubernetes client has been closed.\n"
     ]
    }
   ],
   "source": [
    "df_final.writeTo(f\"wherobots.{database}.fema_nri_bronze\").createOrReplace()"
   ]
  },
  {
   "cell_type": "code",
   "execution_count": 1,
   "id": "ab34dd50-0527-49b7-a969-fcea5859b708",
   "metadata": {
    "execution": {
     "iopub.execute_input": "2025-09-30T19:20:55.826032Z",
     "iopub.status.busy": "2025-09-30T19:20:55.825900Z",
     "iopub.status.idle": "2025-09-30T19:20:55.928427Z",
     "shell.execute_reply": "2025-09-30T19:20:55.927870Z",
     "shell.execute_reply.started": "2025-09-30T19:20:55.826018Z"
    }
   },
   "outputs": [
    {
     "ename": "NameError",
     "evalue": "name 'sedona' is not defined",
     "output_type": "error",
     "traceback": [
      "\u001b[31m---------------------------------------------------------------------------\u001b[39m",
      "\u001b[31mNameError\u001b[39m                                 Traceback (most recent call last)",
      "\u001b[36mCell\u001b[39m\u001b[36m \u001b[39m\u001b[32mIn[1]\u001b[39m\u001b[32m, line 2\u001b[39m\n\u001b[32m      1\u001b[39m \u001b[38;5;66;03m# King County School Sites\u001b[39;00m\n\u001b[32m----> \u001b[39m\u001b[32m2\u001b[39m school_sites = \u001b[43msedona\u001b[49m.read.format(\u001b[33m'\u001b[39m\u001b[33mshapefile\u001b[39m\u001b[33m'\u001b[39m).load(\u001b[33mf\u001b[39m\u001b[33m'\u001b[39m\u001b[38;5;132;01m{\u001b[39;00mprefix\u001b[38;5;132;01m}\u001b[39;00m\u001b[33m'\u001b[39m + \u001b[33m'\u001b[39m\u001b[33mSchool_Sites_in_King_County___schsite_point/School_Sites_in_King_County___schsite_point.shp\u001b[39m\u001b[33m'\u001b[39m)\n",
      "\u001b[31mNameError\u001b[39m: name 'sedona' is not defined"
     ]
    }
   ],
   "source": [
    "# King County School Sites\n",
    "school_sites = sedona.read.format('shapefile').load(f'{prefix}' + 'School_Sites_in_King_County___schsite_point/School_Sites_in_King_County___schsite_point.shp')"
   ]
  },
  {
   "cell_type": "code",
   "execution_count": 2,
   "id": "517cf454-e658-48a1-955f-56092ad3bf7c",
   "metadata": {
    "execution": {
     "iopub.execute_input": "2025-09-30T19:22:09.806804Z",
     "iopub.status.busy": "2025-09-30T19:22:09.806608Z",
     "iopub.status.idle": "2025-09-30T19:22:09.809125Z",
     "shell.execute_reply": "2025-09-30T19:22:09.808787Z",
     "shell.execute_reply.started": "2025-09-30T19:22:09.806790Z"
    }
   },
   "outputs": [],
   "source": [
    "# Schools Report Card"
   ]
  },
  {
   "cell_type": "code",
   "execution_count": 3,
   "id": "0907b912-285b-409d-9373-53bf49920b99",
   "metadata": {
    "execution": {
     "iopub.execute_input": "2025-09-30T19:22:20.222609Z",
     "iopub.status.busy": "2025-09-30T19:22:20.222411Z",
     "iopub.status.idle": "2025-09-30T19:22:20.225686Z",
     "shell.execute_reply": "2025-09-30T19:22:20.224726Z",
     "shell.execute_reply.started": "2025-09-30T19:22:20.222593Z"
    }
   },
   "outputs": [],
   "source": [
    "# Seismic Hazards"
   ]
  },
  {
   "cell_type": "code",
   "execution_count": 4,
   "id": "848c1509-27a0-42ec-b8cc-5b6b58c3287e",
   "metadata": {
    "execution": {
     "iopub.execute_input": "2025-09-30T19:22:31.188799Z",
     "iopub.status.busy": "2025-09-30T19:22:31.188558Z",
     "iopub.status.idle": "2025-09-30T19:22:31.191275Z",
     "shell.execute_reply": "2025-09-30T19:22:31.190847Z",
     "shell.execute_reply.started": "2025-09-30T19:22:31.188784Z"
    }
   },
   "outputs": [],
   "source": [
    "# Census Block Groups"
   ]
  },
  {
   "cell_type": "code",
   "execution_count": 5,
   "id": "103d5f5f-ddf8-47f4-a5f1-5fb77496bac2",
   "metadata": {
    "execution": {
     "iopub.execute_input": "2025-09-30T19:22:35.256126Z",
     "iopub.status.busy": "2025-09-30T19:22:35.255882Z",
     "iopub.status.idle": "2025-09-30T19:22:35.258223Z",
     "shell.execute_reply": "2025-09-30T19:22:35.257831Z",
     "shell.execute_reply.started": "2025-09-30T19:22:35.256106Z"
    }
   },
   "outputs": [],
   "source": [
    "# Census CSVs"
   ]
  },
  {
   "cell_type": "code",
   "execution_count": 6,
   "id": "19610058-ff7d-41fe-807d-7132fec745bb",
   "metadata": {
    "execution": {
     "iopub.execute_input": "2025-09-30T19:22:41.933054Z",
     "iopub.status.busy": "2025-09-30T19:22:41.932860Z",
     "iopub.status.idle": "2025-09-30T19:22:41.936266Z",
     "shell.execute_reply": "2025-09-30T19:22:41.935324Z",
     "shell.execute_reply.started": "2025-09-30T19:22:41.933039Z"
    }
   },
   "outputs": [],
   "source": [
    "# Tranist Routes"
   ]
  },
  {
   "cell_type": "code",
   "execution_count": 7,
   "id": "1b97e87d-4079-4f92-8e35-af08b6d0df95",
   "metadata": {
    "execution": {
     "iopub.execute_input": "2025-09-30T19:22:47.080757Z",
     "iopub.status.busy": "2025-09-30T19:22:47.080548Z",
     "iopub.status.idle": "2025-09-30T19:22:47.083616Z",
     "shell.execute_reply": "2025-09-30T19:22:47.082866Z",
     "shell.execute_reply.started": "2025-09-30T19:22:47.080741Z"
    }
   },
   "outputs": [],
   "source": [
    "# Transit Stops"
   ]
  },
  {
   "cell_type": "code",
   "execution_count": 8,
   "id": "3ab603b1-706d-403f-9ba7-bc49820bb224",
   "metadata": {
    "execution": {
     "iopub.execute_input": "2025-09-30T19:22:59.288274Z",
     "iopub.status.busy": "2025-09-30T19:22:59.288086Z",
     "iopub.status.idle": "2025-09-30T19:22:59.291181Z",
     "shell.execute_reply": "2025-09-30T19:22:59.290557Z",
     "shell.execute_reply.started": "2025-09-30T19:22:59.288259Z"
    }
   },
   "outputs": [],
   "source": [
    "# Water Bodies"
   ]
  },
  {
   "cell_type": "code",
   "execution_count": 10,
   "id": "09f651b2-135e-483a-b376-1722e1b69d08",
   "metadata": {
    "execution": {
     "iopub.execute_input": "2025-09-30T19:23:17.013957Z",
     "iopub.status.busy": "2025-09-30T19:23:17.013726Z",
     "iopub.status.idle": "2025-09-30T19:23:17.016145Z",
     "shell.execute_reply": "2025-09-30T19:23:17.015814Z",
     "shell.execute_reply.started": "2025-09-30T19:23:17.013941Z"
    }
   },
   "outputs": [],
   "source": [
    "# Wildfire Polygons"
   ]
  },
  {
   "cell_type": "code",
   "execution_count": 11,
   "id": "dddd5cd5-16a2-408b-942e-0e8a86126ef4",
   "metadata": {
    "execution": {
     "iopub.execute_input": "2025-09-30T19:23:25.942472Z",
     "iopub.status.busy": "2025-09-30T19:23:25.942278Z",
     "iopub.status.idle": "2025-09-30T19:23:25.944744Z",
     "shell.execute_reply": "2025-09-30T19:23:25.944439Z",
     "shell.execute_reply.started": "2025-09-30T19:23:25.942459Z"
    }
   },
   "outputs": [],
   "source": [
    "# Wildfire Rasters"
   ]
  },
  {
   "cell_type": "code",
   "execution_count": 12,
   "id": "278f504d-8689-4c71-bbb1-bf9d2697dab7",
   "metadata": {
    "execution": {
     "iopub.execute_input": "2025-09-30T19:23:42.708892Z",
     "iopub.status.busy": "2025-09-30T19:23:42.708684Z",
     "iopub.status.idle": "2025-09-30T19:23:42.710991Z",
     "shell.execute_reply": "2025-09-30T19:23:42.710638Z",
     "shell.execute_reply.started": "2025-09-30T19:23:42.708878Z"
    }
   },
   "outputs": [],
   "source": [
    "# E;evation"
   ]
  },
  {
   "cell_type": "code",
   "execution_count": null,
   "id": "8270605c-65ae-4222-8975-554d17b03b53",
   "metadata": {},
   "outputs": [],
   "source": []
  }
 ],
 "metadata": {
  "kernelspec": {
   "display_name": "Python 3 (ipykernel)",
   "language": "python",
   "name": "python3"
  },
  "language_info": {
   "codemirror_mode": {
    "name": "ipython",
    "version": 3
   },
   "file_extension": ".py",
   "mimetype": "text/x-python",
   "name": "python",
   "nbconvert_exporter": "python",
   "pygments_lexer": "ipython3",
   "version": "3.11.13"
  }
 },
 "nbformat": 4,
 "nbformat_minor": 5
}
