{
 "cells": [
  {
   "cell_type": "code",
   "execution_count": null,
   "id": "e3100f77-fe3f-4c9a-8a0a-a4d62c723e50",
   "metadata": {},
   "outputs": [],
   "source": [
    "from sedona.spark import *\n",
    "from pyspark.sql.functions import col, when, expr\n",
    "from sedona.sql.st_functions import ST_IsValid, ST_IsValidReason, ST_MakeValid\n",
    "from pyspark.sql import DataFrame\n",
    "import urllib.request\n",
    "import json"
   ]
  },
  {
   "cell_type": "code",
   "execution_count": null,
   "id": "8625818a-f65d-44c6-a5f2-a7d149c5075b",
   "metadata": {},
   "outputs": [],
   "source": [
    "config = SedonaContext.builder().getOrCreate()\n",
    "sedona = SedonaContext.create(config)"
   ]
  },
  {
   "cell_type": "code",
   "execution_count": null,
   "id": "c72710a2",
   "metadata": {},
   "outputs": [],
   "source": [
    "stac_df = sedona.read.format(\"stac\").load(\n",
    "    \"https://earth-search.aws.element84.com/v1/collections/sentinel-2-pre-c1-l2a\"\n",
    ")\n",
    "\n",
    "stac_df.printSchema()\n",
    "stac_df.select(\"id\", \"datetime\", \"geometry\", \"collection\").show(5, truncate=False)"
   ]
  },
  {
   "cell_type": "markdown",
   "id": "8e2620aa",
   "metadata": {},
   "source": [
    "You can control how many items to load, how requests are batched, and how partitions are distributed."
   ]
  },
  {
   "cell_type": "code",
   "execution_count": null,
   "id": "2618b0a9",
   "metadata": {},
   "outputs": [],
   "source": [
    "df = sedona.read.format(\"stac\") \\\n",
    "            .option(\"itemsLimitMax\", \"1000\")\\\n",
    "            .option(\"itemsLimitPerRequest\", \"50\")\\\n",
    "            .option(\"itemsLoadProcessReportThreshold\", \"500000\")\\\n",
    "            .load(\"https://earth-search.aws.element84.com/v1/collections/sentinel-2-pre-c1-l2a\")"
   ]
  },
  {
   "cell_type": "code",
   "execution_count": null,
   "id": "c53d025a",
   "metadata": {
    "vscode": {
     "languageId": "plaintext"
    }
   },
   "outputs": [],
   "source": [
    "# Create a new Havasu (Iceberg) database\n",
    "\n",
    "database = 'gde_bronze'\n",
    "\n",
    "sedona.sql(f'CREATE DATABASE IF NOT EXISTS org_catalog.{database}')"
   ]
  },
  {
   "cell_type": "code",
   "execution_count": null,
   "id": "635b0c32",
   "metadata": {
    "vscode": {
     "languageId": "plaintext"
    }
   },
   "outputs": [],
   "source": [
    "geotiff_path = \"s3://wherobots-examples/data/ghs_population/GHS_POP_E1975_GLOBE_R2023A_4326_3ss_V1_0.tif\"\n",
    "\n",
    "df = sedona.read.format(\"raster\") \\\n",
    "    .option(\"tileWidth\", \"512\") \\\n",
    "    .option(\"tileHeight\", \"512\") \\\n",
    "    .option(\"retile\", \"true\") \\\n",
    "    .load(geotiff_path)\n",
    "\n",
    "df.writeTo(f\"org_catalog.{database}.ghs_population_tiles\")"
   ]
  },
  {
   "cell_type": "code",
   "execution_count": null,
   "id": "739768d5-992c-4811-9404-f360ec33629a",
   "metadata": {},
   "outputs": [],
   "source": [
    "df.writeTo(f\"org_catalog.{database}.ghs_population_tiles\").create()"
   ]
  },
  {
   "cell_type": "code",
   "execution_count": null,
   "id": "3b71f7ea",
   "metadata": {
    "vscode": {
     "languageId": "plaintext"
    }
   },
   "outputs": [],
   "source": [
    "prefix = 's3://wherobots-examples/gdea-course-data/raw-data/'"
   ]
  },
  {
   "cell_type": "code",
   "execution_count": null,
   "id": "e34a2ada-50cd-4bc8-aeb9-4ffc5aa5ef0e",
   "metadata": {},
   "outputs": [],
   "source": [
    "# FEMA Flood Hazard Areas\n",
    "fld_hazard_area = sedona.read.format('shapefile').load(f'{prefix}' + '53033C_20250330/S_FLD_HAZ_AR.shp')"
   ]
  },
  {
   "cell_type": "code",
   "execution_count": null,
   "id": "654d631f-9d25-47ee-be41-b2480ef9018b",
   "metadata": {},
   "outputs": [],
   "source": [
    "fld_hazard_area.writeTo(f\"org_catalog.{database}.fema_flood_zones_bronze\").createOrReplace()"
   ]
  },
  {
   "cell_type": "code",
   "execution_count": null,
   "id": "80c6b264-da6b-4a4e-bc4f-4e1ad86896da",
   "metadata": {},
   "outputs": [],
   "source": [
    "# King County Generalized Land Use Data\n",
    "gen_land_use = sedona.read.format('shapefile').load(f'{prefix}' + 'General_Land_Use_Final_Dataset/General_Land_Use_Final_Dataset.shp')"
   ]
  },
  {
   "cell_type": "code",
   "execution_count": null,
   "id": "19728834-c881-41e2-8449-8737f47343cb",
   "metadata": {},
   "outputs": [],
   "source": [
    "gen_land_use.writeTo(f\"org_catalog.{database}.gen_land_use_bronze\").createOrReplace()"
   ]
  },
  {
   "cell_type": "code",
   "execution_count": null,
   "id": "0bd61b53-a501-4144-a796-cf3d8859163a",
   "metadata": {},
   "outputs": [],
   "source": [
    "# King County Sherrif Patrol Districts\n",
    "sherrif_districts = sedona.read.format('shapefile').load(f'{prefix}' + 'King_County_Sheriff_Patrol_Districts___patrol_districts_area/King_County_Sheriff_Patrol_Districts___patrol_districts_area.shp')"
   ]
  },
  {
   "cell_type": "code",
   "execution_count": null,
   "id": "8c8efd8f-36e7-40f2-821b-f7bde9b81179",
   "metadata": {},
   "outputs": [],
   "source": [
    "sherrif_districts.writeTo(f\"org_catalog.{database}.sherrif_districts_bronze\").createOrReplace()"
   ]
  },
  {
   "cell_type": "code",
   "execution_count": null,
   "id": "3d75db79-f5e0-43bf-9383-f96f6a2f65ed",
   "metadata": {},
   "outputs": [],
   "source": [
    "# King County Offense Reports\n",
    "offense_reports = sedona.read.format('csv').load(f'{prefix}' + 'KCSO_Offense_Reports__2020_to_Present_20250923.csv')"
   ]
  },
  {
   "cell_type": "code",
   "execution_count": null,
   "id": "f367d35a-e5e0-4a94-a5ea-4542a2030e93",
   "metadata": {},
   "outputs": [],
   "source": [
    "offense_reports.writeTo(f\"org_catalog.{database}.offense_reports_bronze\").createOrReplace()"
   ]
  },
  {
   "cell_type": "code",
   "execution_count": null,
   "id": "a01f89e6-6075-4a93-9703-4cc040292382",
   "metadata": {},
   "outputs": [],
   "source": [
    "# King County Bike Lanes\n",
    "bike_lanes = sedona.read.format('shapefile').load(f'{prefix}' + 'Metro_Transportation_Network_(TNET)_in_King_County_for_Bicycle_Mode___trans_network_bike_line/Metro_Transportation_Network_(TNET)_in_King_County_for_Bicycle_Mode___trans_network_bike_line.shp')"
   ]
  },
  {
   "cell_type": "code",
   "execution_count": null,
   "id": "ac773691-ecaa-46f4-8b01-8407b9059015",
   "metadata": {},
   "outputs": [],
   "source": [
    "bike_lanes.writeTo(f\"org_catalog.{database}.bike_lanes_bronze\").createOrReplace()"
   ]
  },
  {
   "cell_type": "code",
   "execution_count": null,
   "id": "5929ef8b-0ff9-4178-8d12-f529297945de",
   "metadata": {},
   "outputs": [],
   "source": [
    "# FEMA National Risk Index\n",
    "fema_nri = sedona.read.format('shapefile').load(f'{prefix}' + 'NRI_Shapefile_CensusTracts/NRI_Shapefile_CensusTracts.shp')"
   ]
  },
  {
   "cell_type": "code",
   "execution_count": null,
   "id": "35e82d32-ce21-42b3-8589-48cc16998186",
   "metadata": {},
   "outputs": [],
   "source": [
    "fema_nri.writeTo(f\"org_catalog.{database}.fema_nri_bronze\").createOrReplace()"
   ]
  },
  {
   "cell_type": "code",
   "execution_count": null,
   "id": "ab34dd50-0527-49b7-a969-fcea5859b708",
   "metadata": {},
   "outputs": [],
   "source": [
    "# King County School Sites\n",
    "school_sites = sedona.read.format('shapefile').load(f'{prefix}' + 'School_Sites_in_King_County___schsite_point/School_Sites_in_King_County___schsite_point.shp')"
   ]
  },
  {
   "cell_type": "code",
   "execution_count": null,
   "id": "0a913b76-ec1c-435b-b1e6-694d15ca157f",
   "metadata": {},
   "outputs": [],
   "source": [
    "school_sites.writeTo(f\"org_catalog.{database}.school_sites_bronze\").createOrReplace()"
   ]
  },
  {
   "cell_type": "code",
   "execution_count": null,
   "id": "517cf454-e658-48a1-955f-56092ad3bf7c",
   "metadata": {},
   "outputs": [],
   "source": [
    "# Schools Report Card\n",
    "report_card = sedona.read. \\\n",
    "    format('csv'). \\\n",
    "    load(f'{prefix}' + 'Report_Card_Growth_for_2024-25_20250923.csv')"
   ]
  },
  {
   "cell_type": "code",
   "execution_count": null,
   "id": "2a37eaa3-fb75-433d-86ec-265d3f6273e3",
   "metadata": {},
   "outputs": [],
   "source": [
    "report_card.writeTo(f\"org_catalog.{database}.report_card_bronze\").createOrReplace()"
   ]
  },
  {
   "cell_type": "code",
   "execution_count": null,
   "id": "0907b912-285b-409d-9373-53bf49920b99",
   "metadata": {},
   "outputs": [],
   "source": [
    "# Seismic Hazards\n",
    "seismic_hazards = sedona.read. \\\n",
    "    format('shapefile'). \\\n",
    "    load(f'{prefix}' + 'Seismic_Hazards___seism_area/Seismic_Hazards___seism_area.shp')"
   ]
  },
  {
   "cell_type": "code",
   "execution_count": null,
   "id": "93d2d673-ce35-48bb-82d1-36d8c432a392",
   "metadata": {},
   "outputs": [],
   "source": [
    "seismic_hazards.writeTo(f\"org_catalog.{database}.seismic_hazards_bronze\").createOrReplace()"
   ]
  },
  {
   "cell_type": "code",
   "execution_count": null,
   "id": "848c1509-27a0-42ec-b8cc-5b6b58c3287e",
   "metadata": {},
   "outputs": [],
   "source": [
    "# Census Block Groups\n",
    "block_groups = sedona.read. \\\n",
    "    format('shapefile'). \\\n",
    "    load(f'{prefix}' + 'tl_2024_53_bg/tl_2024_53_bg.shp')"
   ]
  },
  {
   "cell_type": "code",
   "execution_count": null,
   "id": "218d1da0-4276-45c0-8838-ec202257210a",
   "metadata": {},
   "outputs": [],
   "source": [
    "block_groups.writeTo(f\"org_catalog.{database}.block_groups_bronze\").createOrReplace()"
   ]
  },
  {
   "cell_type": "code",
   "execution_count": null,
   "id": "103d5f5f-ddf8-47f4-a5f1-5fb77496bac2",
   "metadata": {},
   "outputs": [],
   "source": [
    "# Census CSVs\n",
    "median_age = sedona.read. \\\n",
    "    format('csv'). \\\n",
    "    load(f'{prefix}' + 'ACSDT5Y2023.B01002_2025-09-19T105233/ACSDT5Y2023.B01002-Data.csv')\n",
    "\n",
    "median_age.writeTo(f\"org_catalog.{database}.median_age_bronze\").createOrReplace()\n",
    "\n",
    "total_pop = sedona.read. \\\n",
    "    format('csv'). \\\n",
    "    load(f'{prefix}' + 'ACSDT5Y2023.B01003_2025-09-19T105050/ACSDT5Y2023.B01003-Data.csv')\n",
    "\n",
    "total_pop.writeTo(f\"org_catalog.{database}.total_pop_bronze\").createOrReplace()\n",
    "\n",
    "median_income = sedona.read. \\\n",
    "    format('csv'). \\\n",
    "    load(f'{prefix}' + 'ACSDT5Y2023.B19013_2025-09-19T105253/ACSDT5Y2023.B19013-Data.csv')\n",
    "\n",
    "total_pop.writeTo(f\"org_catalog.{database}.median_income_bronze\").createOrReplace()"
   ]
  },
  {
   "cell_type": "code",
   "execution_count": null,
   "id": "19610058-ff7d-41fe-807d-7132fec745bb",
   "metadata": {},
   "outputs": [],
   "source": [
    "# Tranist Routes\n",
    "transit_routes = sedona.read. \\\n",
    "    format('shapefile'). \\\n",
    "    load(f'{prefix}' + 'Transit_Routes_for_King_County_Metro___transitroute_line/Transit_Routes_for_King_County_Metro___transitroute_line.shp')"
   ]
  },
  {
   "cell_type": "code",
   "execution_count": null,
   "id": "668665e0-8ca0-47c1-ad0b-6de4aa338d49",
   "metadata": {},
   "outputs": [],
   "source": [
    "transit_routes.writeTo(f\"org_catalog.{database}.transit_routes_bronze\").createOrReplace()"
   ]
  },
  {
   "cell_type": "code",
   "execution_count": null,
   "id": "1b97e87d-4079-4f92-8e35-af08b6d0df95",
   "metadata": {},
   "outputs": [],
   "source": [
    "# Transit Stops\n",
    "transit_stops = sedona.read. \\\n",
    "    format('shapefile'). \\\n",
    "    load(f'{prefix}' + 'Transit_Stops_for_King_County_Metro___transitstop_point/Transit_Stops_for_King_County_Metro___transitstop_point.shp')"
   ]
  },
  {
   "cell_type": "code",
   "execution_count": null,
   "id": "52c05ba8-9750-41b0-a695-a37fa1b83be5",
   "metadata": {},
   "outputs": [],
   "source": [
    "transit_stops.writeTo(f\"org_catalog.{database}.transit_stops_bronze\").createOrReplace()"
   ]
  },
  {
   "cell_type": "code",
   "execution_count": null,
   "id": "3ab603b1-706d-403f-9ba7-bc49820bb224",
   "metadata": {},
   "outputs": [],
   "source": [
    "# Water Bodies\n",
    "water_bodies = sedona.read. \\\n",
    "    format('shapefile'). \\\n",
    "    load(f'{prefix}' + 'Waterbodies_with_History_and_Jurisdictional_detail___wtrbdy_det_area/Waterbodies_with_History_and_Jurisdictional_detail___wtrbdy_det_area.shp')"
   ]
  },
  {
   "cell_type": "code",
   "execution_count": null,
   "id": "c96768e9-9c12-4946-ba3e-7d1bb29c271e",
   "metadata": {},
   "outputs": [],
   "source": [
    "water_bodies.writeTo(f\"org_catalog.{database}.water_bodies_bronze\").createOrReplace()"
   ]
  },
  {
   "cell_type": "code",
   "execution_count": null,
   "id": "09f651b2-135e-483a-b376-1722e1b69d08",
   "metadata": {},
   "outputs": [],
   "source": [
    "# Wildfire Polygons\n",
    "wildfires = sedona.read. \\\n",
    "    format('shapefile'). \\\n",
    "    load(f'{prefix}' + 'Wildfires_1878_2019_Polygon_Data/Shapefile/US_Wildfires_1878_2019.shp')"
   ]
  },
  {
   "cell_type": "code",
   "execution_count": null,
   "id": "f036a2b1-a97d-4731-ad41-fd73d87296f8",
   "metadata": {},
   "outputs": [],
   "source": [
    "wildfires.writeTo(f\"org_catalog.{database}.wildfires_bronze\").createOrReplace()"
   ]
  },
  {
   "cell_type": "code",
   "execution_count": null,
   "id": "278f504d-8689-4c71-bbb1-bf9d2697dab7",
   "metadata": {},
   "outputs": [],
   "source": [
    "# Elevation\n",
    "\n",
    "url = 's3://copernicus-dem-30m/*/*.tif'\n",
    "\n",
    "elev_df = sedona.read.format(\"raster\").option(\"retile\", \"true\").load(url) \\\n",
    ".where(\n",
    "    \"RS_Intersects(rast, ST_GeomFromText('POLYGON((-125.0572 48.9964, -120.255 48.9964, -120.255 46.491, -125.0572 46.491, -125.0572 48.9964))'))\"\n",
    ")\n",
    "\n",
    "# Use the below function to load the global DEM\n",
    "\n",
    "# elev_df = sedona.read.format(\"raster\").option(\"retile\", \"true\").load(url)"
   ]
  },
  {
   "cell_type": "code",
   "execution_count": null,
   "id": "92f7e496-b4fa-41e7-a418-afafc8b818b9",
   "metadata": {},
   "outputs": [],
   "source": [
    "elev_df.writeTo(f\"org_catalog.{database}.elevation_bronze\").createOrReplace()"
   ]
  },
  {
   "cell_type": "code",
   "execution_count": null,
   "id": "8270605c-65ae-4222-8975-554d17b03b53",
   "metadata": {},
   "outputs": [],
   "source": [
    "# Geocoded Schools\n",
    "schools = sedona.read. \\\n",
    "    format('geojson'). \\\n",
    "    option('mode', 'DROPMALFORMED'). \\\n",
    "    load(f'{prefix}' + 'Washington_State_Public_Schools_GeoCoded.geojson')"
   ]
  },
  {
   "cell_type": "code",
   "execution_count": null,
   "id": "34c889f2-9210-4c03-b6a1-5357929ea913",
   "metadata": {},
   "outputs": [],
   "source": [
    "schools = schools \\\n",
    "    .withColumn(\"AYPCode\", expr(\"properties['AYPCode']\")) \\\n",
    "    .withColumn(\"CongressionalDistrict\", expr(\"properties['CongressionalDistrict']\")) \\\n",
    "    .withColumn(\"County\", expr(\"properties['County']\")) \\\n",
    "    .withColumn(\"ESDName\", expr(\"properties['ESDName']\")) \\\n",
    "    .withColumn(\"Email\", expr(\"properties['Email']\")) \\\n",
    "    .withColumn(\"GeoCoded_X\", expr(\"properties['GeoCoded_X']\")) \\\n",
    "    .withColumn(\"GeoCoded_Y\", expr(\"properties['GeoCoded_Y']\")) \\\n",
    "    .withColumn(\"GradeCategory\", expr(\"properties['GradeCategory']\")) \\\n",
    "    .withColumn(\"HighestGrade\", expr(\"properties['HighestGrade']\")) \\\n",
    "    .withColumn(\"LEAName\", expr(\"properties['LEAName']\")) \\\n",
    "    .withColumn(\"LegislativeDistrict\", expr(\"properties['LegislativeDistrict']\")) \\\n",
    "    .withColumn(\"LowestGrade\", expr(\"properties['LowestGrade']\")) \\\n",
    "    .withColumn(\"MailingAddress\", expr(\"properties['MailingAddress']\")) \\\n",
    "    .withColumn(\"NCES_X\", expr(\"properties['NCES_X']\")) \\\n",
    "    .withColumn(\"NCES_Y\", expr(\"properties['NCES_Y']\")) \\\n",
    "    .withColumn(\"Phone\", expr(\"properties['Phone']\")) \\\n",
    "    .withColumn(\"Principal\", expr(\"properties['Principal']\")) \\\n",
    "    .withColumn(\"School\", expr(\"properties['School']\")) \\\n",
    "    .withColumn(\"SchoolCategory\", expr(\"properties['SchoolCategory']\")) \\\n",
    "    .withColumn(\"SingleAddress\", expr(\"properties['SingleAddress']\")) \\\n",
    "    .drop(\"properties\").drop(\"type\") \\\n",
    "    .drop(\"_corrupt_record\").drop(\"type\") \\\n",
    "    .drop(\"type\").drop(\"type\")"
   ]
  },
  {
   "cell_type": "code",
   "execution_count": null,
   "id": "35ac3d21-b73c-475c-b3f0-e8254de09b9c",
   "metadata": {},
   "outputs": [],
   "source": [
    "schools.writeTo(f\"org_catalog.{database}.schools_bronze\").createOrReplace()"
   ]
  },
  {
   "cell_type": "code",
   "execution_count": null,
   "id": "0276f986-4389-4e68-aa50-f08081824a76",
   "metadata": {},
   "outputs": [],
   "source": []
  }
 ],
 "metadata": {
  "kernelspec": {
   "display_name": "Python 3 (ipykernel)",
   "language": "python",
   "name": "python3"
  },
  "language_info": {
   "codemirror_mode": {
    "name": "ipython",
    "version": 3
   },
   "file_extension": ".py",
   "mimetype": "text/x-python",
   "name": "python",
   "nbconvert_exporter": "python",
   "pygments_lexer": "ipython3",
   "version": "3.11.13"
  }
 },
 "nbformat": 4,
 "nbformat_minor": 5
}
