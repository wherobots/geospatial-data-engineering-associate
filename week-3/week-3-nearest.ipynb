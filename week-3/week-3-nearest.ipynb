{
 "cells": [
  {
   "cell_type": "code",
   "execution_count": 1,
   "id": "4397f8dc-728a-4de0-87be-e8cc233e3a0a",
   "metadata": {
    "execution": {
     "iopub.execute_input": "2025-10-20T01:37:05.440749Z",
     "iopub.status.busy": "2025-10-20T01:37:05.440641Z",
     "iopub.status.idle": "2025-10-20T01:37:43.433177Z",
     "shell.execute_reply": "2025-10-20T01:37:43.432198Z",
     "shell.execute_reply.started": "2025-10-20T01:37:05.440736Z"
    }
   },
   "outputs": [
    {
     "name": "stderr",
     "output_type": "stream",
     "text": [
      "Setting default log level to \"WARN\".\n",
      "To adjust logging level use sc.setLogLevel(newLevel). For SparkR, use setLogLevel(newLevel).\n",
      "Setting Spark log level to \"WARN\".\n",
      "                                                                                \r"
     ]
    }
   ],
   "source": [
    "from sedona.spark import *\n",
    "config = SedonaContext.builder().getOrCreate()\n",
    "sedona = SedonaContext.create(config)"
   ]
  },
  {
   "cell_type": "code",
   "execution_count": 3,
   "id": "5ea6fb4c-cfce-4308-8cc0-b885d24d3da6",
   "metadata": {
    "execution": {
     "iopub.execute_input": "2025-10-20T01:38:35.040560Z",
     "iopub.status.busy": "2025-10-20T01:38:35.040367Z",
     "iopub.status.idle": "2025-10-20T01:38:35.043340Z",
     "shell.execute_reply": "2025-10-20T01:38:35.042611Z",
     "shell.execute_reply.started": "2025-10-20T01:38:35.040545Z"
    }
   },
   "outputs": [],
   "source": [
    "database = 'gde_silver'"
   ]
  },
  {
   "cell_type": "code",
   "execution_count": 4,
   "id": "25a83618-6cd9-4bd8-9788-4d84659e2903",
   "metadata": {
    "execution": {
     "iopub.execute_input": "2025-10-20T01:38:35.651756Z",
     "iopub.status.busy": "2025-10-20T01:38:35.651575Z",
     "iopub.status.idle": "2025-10-20T01:38:44.202558Z",
     "shell.execute_reply": "2025-10-20T01:38:44.201553Z",
     "shell.execute_reply.started": "2025-10-20T01:38:35.651741Z"
    }
   },
   "outputs": [
    {
     "name": "stderr",
     "output_type": "stream",
     "text": [
      "                                                                                \r"
     ]
    },
    {
     "data": {
      "text/plain": [
       "DataFrame[]"
      ]
     },
     "execution_count": 4,
     "metadata": {},
     "output_type": "execute_result"
    }
   ],
   "source": [
    "# Home Area Buffers\n",
    "\n",
    "sedona.sql(f'''\n",
    "create or replace table org_catalog.{database}.homes_distance_to_seattle as\n",
    "select                                                                                                      \n",
    "sale_id,                                                                                                  \n",
    "ST_DistanceSpheroid(geometry, ST_Point(-122.336111, 47.608056)) as distance\n",
    "from org_catalog.gde_bronze.king_co_homes \n",
    "''')"
   ]
  },
  {
   "cell_type": "code",
   "execution_count": 7,
   "id": "7bd0c942-022c-446a-9e2c-e72c921907d9",
   "metadata": {
    "execution": {
     "iopub.execute_input": "2025-10-20T01:39:23.484107Z",
     "iopub.status.busy": "2025-10-20T01:39:23.483900Z",
     "iopub.status.idle": "2025-10-20T01:42:02.371674Z",
     "shell.execute_reply": "2025-10-20T01:42:02.371207Z",
     "shell.execute_reply.started": "2025-10-20T01:39:23.484092Z"
    }
   },
   "outputs": [
    {
     "name": "stderr",
     "output_type": "stream",
     "text": [
      "25/10/20 01:39:24 WARN JoinQueryDetector: Filter pushdown detected on the object side of a KNN join. This may cause the KNN join to return incorrect results. Consider materializing the object side before the join to prevent filter pushdown.\n",
      "                                                                                \r"
     ]
    },
    {
     "data": {
      "text/plain": [
       "DataFrame[]"
      ]
     },
     "execution_count": 7,
     "metadata": {},
     "output_type": "execute_result"
    }
   ],
   "source": [
    "# Flood Hazards Table\n",
    "\n",
    "sedona.sql(f'''\n",
    "create or replace table org_catalog.{database}.homes_distance_to_park as\n",
    "select                                                                                                      \n",
    "a.sale_id,                                                                                                  \n",
    "ST_DistanceSpheroid(a.geometry, b.geometry) as distance\n",
    "from org_catalog.gde_bronze.king_co_homes a\n",
    "join wherobots_open_data.overture_maps_foundation.base_land_use b\n",
    "on st_knn(a.geometry, b.geometry, 1, true)\n",
    "where b.subtype in ('golf', 'park', 'pedestrian', 'recreation', 'winter_sports')\n",
    "and st_intersects(b.geometry, ST_GeomFromText('POLYGON((-122.543146 47.780328, -121.065638 47.780328, -121.065638 47.08409, -122.543146 47.08409, -122.543146 47.780328))'))\n",
    "and st_areaspheroid(b.geometry) > 5000\n",
    "''')"
   ]
  },
  {
   "cell_type": "code",
   "execution_count": null,
   "id": "dc52f087-69d9-4bb7-97d5-aeb6c68661aa",
   "metadata": {},
   "outputs": [],
   "source": []
  }
 ],
 "metadata": {
  "kernelspec": {
   "display_name": "Python 3 (ipykernel)",
   "language": "python",
   "name": "python3"
  },
  "language_info": {
   "codemirror_mode": {
    "name": "ipython",
    "version": 3
   },
   "file_extension": ".py",
   "mimetype": "text/x-python",
   "name": "python",
   "nbconvert_exporter": "python",
   "pygments_lexer": "ipython3",
   "version": "3.11.14"
  }
 },
 "nbformat": 4,
 "nbformat_minor": 5
}
