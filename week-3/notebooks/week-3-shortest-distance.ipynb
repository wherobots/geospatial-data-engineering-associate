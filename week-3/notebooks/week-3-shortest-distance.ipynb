{
 "cells": [
  {
   "cell_type": "code",
   "id": "fcad5eb7-469e-4d13-a008-226f7d26790b",
   "metadata": {
    "execution": {
     "iopub.execute_input": "2025-10-21T05:06:51.702628Z",
     "iopub.status.busy": "2025-10-21T05:06:51.702445Z",
     "iopub.status.idle": "2025-10-21T05:07:21.403785Z",
     "shell.execute_reply": "2025-10-21T05:07:21.403078Z",
     "shell.execute_reply.started": "2025-10-21T05:06:51.702614Z"
    }
   },
   "source": [
    "from sedona.spark import *\n",
    "from pyspark.sql.functions import *\n",
    "from pyspark.sql.utils import AnalysisException\n",
    "\n",
    "config = SedonaContext.builder() \\\n",
    "    .getOrCreate()\n",
    "\n",
    "sedona = SedonaContext.create(config)"
   ],
   "outputs": [],
   "execution_count": null
  },
  {
   "cell_type": "markdown",
   "id": "e57e2919-9c96-4907-ae17-d1689d3d91d1",
   "metadata": {
    "execution": {
     "iopub.execute_input": "2025-10-19T03:10:38.688879Z",
     "iopub.status.busy": "2025-10-19T03:10:38.688669Z",
     "iopub.status.idle": "2025-10-19T03:10:38.836664Z",
     "shell.execute_reply": "2025-10-19T03:10:38.836221Z",
     "shell.execute_reply.started": "2025-10-19T03:10:38.688862Z"
    }
   },
   "source": [
    "Make sure to filter out the unnecessary rasters outside of King County.\n",
    "\n",
    "\n",
    "```python\n",
    "import wkls\n",
    "\n",
    "_aoi = wkls.us.wa.kingcounty.wkt()\n",
    "```"
   ]
  },
  {
   "cell_type": "code",
   "id": "0dfedcc0-8820-4560-b932-8e7d112c984e",
   "metadata": {
    "execution": {
     "iopub.execute_input": "2025-10-21T05:07:21.405276Z",
     "iopub.status.busy": "2025-10-21T05:07:21.404741Z",
     "iopub.status.idle": "2025-10-21T05:07:29.206156Z",
     "shell.execute_reply": "2025-10-21T05:07:29.205677Z",
     "shell.execute_reply.started": "2025-10-21T05:07:21.405247Z"
    }
   },
   "source": [
    "import wkls\n",
    "\n",
    "_aoi = wkls.us.wa.kirkland.wkt()"
   ],
   "outputs": [],
   "execution_count": null
  },
  {
   "cell_type": "markdown",
   "id": "cbfeebc8-50ed-4723-8d2f-2b90649a274b",
   "metadata": {},
   "source": [
    "Trying to enrich the existing `house_sales_silver` table, if not avaliable then falling back to the bronze table."
   ]
  },
  {
   "cell_type": "code",
   "id": "5693e38d-ce6e-4b84-bb88-76fe255f6e4f",
   "metadata": {
    "execution": {
     "iopub.execute_input": "2025-10-21T05:07:29.206914Z",
     "iopub.status.busy": "2025-10-21T05:07:29.206735Z",
     "iopub.status.idle": "2025-10-21T05:07:37.607168Z",
     "shell.execute_reply": "2025-10-21T05:07:37.606546Z",
     "shell.execute_reply.started": "2025-10-21T05:07:29.206900Z"
    }
   },
   "source": [
    "try:\n",
    "    print(\"Trying to load house_sales_silver dataset from gde_silver database\\n\\n\")\n",
    "    house_sales_df = (\n",
    "        sedona.table(f\"org_catalog.gde_silver.house_sales_silver\")\n",
    "                .where(f\"ST_Intersects(geometry, ST_GeomFromWKT('{_aoi}'))\")\n",
    "                .withColumn(\"geometry_buffer\", expr(\"ST_Buffer(geometry, 500, true)\"))\n",
    "    )\n",
    "    print(\"house_sales_silver dataset found and loaded.\\n\\n\")\n",
    "except AnalysisException as e:\n",
    "    print(\"house_sales_silver table doesn't exist, reading the gde_bronze.house_sales_bronze\\n\\n\")\n",
    "\n",
    "    house_sales_df = (\n",
    "        sedona.table(f\"org_catalog.gde_bronze.house_sales_bronze\")\n",
    "                .where(f\"ST_Intersects(geometry, ST_GeomFromWKT('{_aoi}'))\")\n",
    "                .withColumn(\"geometry_buffer\", expr(\"ST_Buffer(geometry, 500, true)\"))\n",
    "    )\n",
    "\n",
    "\n",
    "house_sales_df.createOrReplaceTempView(\"house_sales\")\n",
    "house_sales_df.show()"
   ],
   "outputs": [],
   "execution_count": null
  },
  {
   "cell_type": "markdown",
   "id": "ab7ab314-696a-4e4a-b1f7-60e2b7846b1b",
   "metadata": {},
   "source": [
    "## Loading the water bodies dataset"
   ]
  },
  {
   "cell_type": "code",
   "id": "47e3dfb1-ea69-4737-a8b2-1925d5841f36",
   "metadata": {
    "execution": {
     "iopub.execute_input": "2025-10-21T05:07:37.607873Z",
     "iopub.status.busy": "2025-10-21T05:07:37.607732Z",
     "iopub.status.idle": "2025-10-21T05:07:37.610500Z",
     "shell.execute_reply": "2025-10-21T05:07:37.609817Z",
     "shell.execute_reply.started": "2025-10-21T05:07:37.607857Z"
    }
   },
   "source": [
    "sq_ft_lake_area = \"25000\""
   ],
   "outputs": [],
   "execution_count": null
  },
  {
   "cell_type": "code",
   "id": "6de175da-3d7b-407a-8f5b-f9c8f3ea07af",
   "metadata": {
    "execution": {
     "iopub.execute_input": "2025-10-21T05:07:37.611321Z",
     "iopub.status.busy": "2025-10-21T05:07:37.611104Z",
     "iopub.status.idle": "2025-10-21T05:07:41.535720Z",
     "shell.execute_reply": "2025-10-21T05:07:41.535122Z",
     "shell.execute_reply.started": "2025-10-21T05:07:37.611301Z"
    }
   },
   "source": [
    "water_bodies = (sedona.table(\"org_catalog.gde_bronze.water_bodies_bronze\")\n",
    "                .where(f\"ST_Intersects(geometry, ST_GeomFromWKT('{_aoi}')) AND SHAPE_Area < {sq_ft_lake_area}\")\n",
    ")\n",
    "\n",
    "water_bodies.createOrReplaceTempView(\"water_bodies\")\n",
    "water_bodies.show()"
   ],
   "outputs": [],
   "execution_count": null
  },
  {
   "cell_type": "code",
   "id": "88a3eeef-d4b3-454e-ab5d-0d5c6e3e68eb",
   "metadata": {
    "execution": {
     "iopub.execute_input": "2025-10-21T05:09:16.511907Z",
     "iopub.status.busy": "2025-10-21T05:09:16.511673Z",
     "iopub.status.idle": "2025-10-21T05:09:16.543768Z",
     "shell.execute_reply": "2025-10-21T05:09:16.542821Z",
     "shell.execute_reply.started": "2025-10-21T05:09:16.511884Z"
    }
   },
   "source": [
    "water_closest_house = sedona.sql(f\"\"\"\n",
    "\n",
    "SELECT \n",
    "    h.*, \n",
    "    ST_DistanceSphere(h.geometry, w.geometry) AS distance_to_nearest_water_body_m\n",
    "FROM \n",
    "    house_sales h, \n",
    "    water_bodies w\n",
    "WHERE \n",
    "    ST_KNN(h.geometry, w.geometry, 1)\n",
    "\n",
    "\"\"\")"
   ],
   "outputs": [],
   "execution_count": null
  },
  {
   "cell_type": "code",
   "id": "3e01269b-4555-439c-b396-350702636c33",
   "metadata": {
    "execution": {
     "iopub.execute_input": "2025-10-21T05:09:17.316416Z",
     "iopub.status.busy": "2025-10-21T05:09:17.316160Z",
     "iopub.status.idle": "2025-10-21T05:09:33.188785Z",
     "shell.execute_reply": "2025-10-21T05:09:33.188080Z",
     "shell.execute_reply.started": "2025-10-21T05:09:17.316398Z"
    }
   },
   "source": [
    "water_closest_house.show()"
   ],
   "outputs": [],
   "execution_count": null
  },
  {
   "cell_type": "code",
   "id": "e3baf1ea-63e6-44bf-811a-47b8d7a7695f",
   "metadata": {},
   "source": [
    "water_closest_house.drop(\"geometry_buffer\").writeTo(\"org_catalog.gde_silver.house_sales_silver\").createOrReplace()"
   ],
   "outputs": [],
   "execution_count": null
  },
  {
   "cell_type": "code",
   "id": "2c9daa35-11d8-4612-acd1-df9ac62e605d",
   "metadata": {},
   "source": [],
   "outputs": [],
   "execution_count": null
  },
  {
   "cell_type": "code",
   "id": "708ad1e9-861a-4115-952f-d0db473dcbd0",
   "metadata": {},
   "source": [],
   "outputs": [],
   "execution_count": null
  },
  {
   "cell_type": "code",
   "id": "23ba1846-a654-45a3-b98b-5ea106c45f41",
   "metadata": {},
   "source": [],
   "outputs": [],
   "execution_count": null
  }
 ],
 "metadata": {
  "kernelspec": {
   "display_name": "Python 3 (ipykernel)",
   "language": "python",
   "name": "python3"
  },
  "language_info": {
   "codemirror_mode": {
    "name": "ipython",
    "version": 3
   },
   "file_extension": ".py",
   "mimetype": "text/x-python",
   "name": "python",
   "nbconvert_exporter": "python",
   "pygments_lexer": "ipython3",
   "version": "3.11.14"
  }
 },
 "nbformat": 4,
 "nbformat_minor": 5
}
