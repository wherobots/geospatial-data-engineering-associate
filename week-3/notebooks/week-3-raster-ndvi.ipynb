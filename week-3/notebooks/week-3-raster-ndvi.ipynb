{
 "cells": [
  {
   "cell_type": "code",
   "execution_count": null,
   "id": "fd9d2515-44e2-46e5-85ee-e9459052b5e4",
   "metadata": {
    "execution": {
     "iopub.execute_input": "2025-10-20T22:27:46.173985Z",
     "iopub.status.busy": "2025-10-20T22:27:46.173812Z",
     "iopub.status.idle": "2025-10-20T22:28:20.891847Z",
     "shell.execute_reply": "2025-10-20T22:28:20.890895Z",
     "shell.execute_reply.started": "2025-10-20T22:27:46.173969Z"
    }
   },
   "outputs": [],
   "source": [
    "from sedona.spark import *\n",
    "from pyspark.sql.functions import *\n",
    "from pyspark.sql.utils import AnalysisException\n",
    "\n",
    "config = SedonaContext.builder() \\\n",
    "    .getOrCreate()\n",
    "\n",
    "sedona = SedonaContext.create(config)"
   ]
  },
  {
   "cell_type": "markdown",
   "id": "3fafd1c3-ba6f-4143-a97c-8bd25284f75b",
   "metadata": {},
   "source": [
    "# Recommended runtime\n",
    "\n",
    "## Tiny\n",
    "\n",
    "# Cost: \n",
    "\n",
    "Cost of executing this over King County.\n",
    "\n",
    "- **~$6**\n",
    "\n",
    "Cost of executing this over Kirkland.\n",
    "\n",
    "- **>$1**"
   ]
  },
  {
   "cell_type": "markdown",
   "id": "8cd22885-bea7-4950-92ff-aa607f576a54",
   "metadata": {},
   "source": [
    "# NDVI\n",
    "\n",
    "Find average NDVI over 500m radius of the house.\n",
    "\n",
    "## **NDVI** Formula\n",
    "\n",
    "($\\frac{\\mathrm{NIR} - \\mathrm{RED}}{\\mathrm{NIR} + \\mathrm{RED}}$)\n",
    "\n",
    "### Bands used \n",
    "- RED   / B04\n",
    "- NIR   / B08\n"
   ]
  },
  {
   "cell_type": "markdown",
   "id": "ddcc8591-f801-40d2-a8bd-f469ef9afd4a",
   "metadata": {
    "execution": {
     "iopub.execute_input": "2025-10-19T03:10:38.688879Z",
     "iopub.status.busy": "2025-10-19T03:10:38.688669Z",
     "iopub.status.idle": "2025-10-19T03:10:38.836664Z",
     "shell.execute_reply": "2025-10-19T03:10:38.836221Z",
     "shell.execute_reply.started": "2025-10-19T03:10:38.688862Z"
    }
   },
   "source": [
    "Make sure to filter out the unnecessary rasters outside of King County.\n",
    "\n",
    "\n",
    "```python\n",
    "import wkls\n",
    "\n",
    "_aoi = wkls.us.wa.kingcounty.wkt()\n",
    "```"
   ]
  },
  {
   "cell_type": "code",
   "execution_count": null,
   "id": "7237a75b-9d8c-4787-8f7c-17cd4175f0b5",
   "metadata": {
    "execution": {
     "iopub.execute_input": "2025-10-20T22:28:20.959821Z",
     "iopub.status.busy": "2025-10-20T22:28:20.959713Z",
     "iopub.status.idle": "2025-10-20T22:28:25.030534Z",
     "shell.execute_reply": "2025-10-20T22:28:25.030009Z",
     "shell.execute_reply.started": "2025-10-20T22:28:20.959804Z"
    }
   },
   "outputs": [],
   "source": [
    "import wkls\n",
    "\n",
    "_aoi = wkls.us.wa.kirkland.wkt()"
   ]
  },
  {
   "cell_type": "markdown",
   "id": "b8b86a2a-8384-48da-8460-1f53894af243",
   "metadata": {},
   "source": [
    "Trying to enrich the existing `house_sales_silver` table, if not avaliable then falling back to the bronze table."
   ]
  },
  {
   "cell_type": "code",
   "execution_count": null,
   "id": "45e074e1-484e-4aea-b827-1f36224d3055",
   "metadata": {
    "execution": {
     "iopub.execute_input": "2025-10-20T22:37:28.734541Z",
     "iopub.status.busy": "2025-10-20T22:37:28.734334Z",
     "iopub.status.idle": "2025-10-20T22:37:29.334776Z",
     "shell.execute_reply": "2025-10-20T22:37:29.334137Z",
     "shell.execute_reply.started": "2025-10-20T22:37:28.734526Z"
    }
   },
   "outputs": [],
   "source": [
    "try:\n",
    "    print(\"Trying to load house_sales_silver dataset from gde_silver database\\n\\n\")\n",
    "    house_sales_df = (\n",
    "        sedona.table(f\"org_catalog.gde_silver.house_sales_silver\")\n",
    "                .where(f\"ST_Intersects(geometry, ST_GeomFromWKT('{_aoi}'))\")\n",
    "                .withColumn(\"geometry_buffer\", expr(\"ST_Buffer(geometry, 500, true)\"))\n",
    "    )\n",
    "    print(\"house_sales_silver dataset found and loaded.\\n\\n\")\n",
    "except AnalysisException as e:\n",
    "    print(\"house_sales_silver table doesn't exist, reading the gde_bronze.king_co_homes\\n\\n\")\n",
    "\n",
    "    house_sales_df = (\n",
    "        sedona.table(f\"org_catalog.gde_bronze.king_co_homes\")\n",
    "                .where(f\"ST_Intersects(geometry, ST_GeomFromWKT('{_aoi}'))\")\n",
    "                .withColumn(\"geometry_buffer\", expr(\"ST_Buffer(geometry, 500, true)\"))\n",
    "    )\n",
    "\n",
    "\n",
    "house_sales_df.createOrReplaceTempView(\"house_sales\")\n",
    "house_sales_df.show()"
   ]
  },
  {
   "cell_type": "markdown",
   "id": "bef0bf99-978a-4362-a8e2-3dd188594a39",
   "metadata": {},
   "source": [
    "# Reading in the sentinel 2 dataset using the STAC API"
   ]
  },
  {
   "cell_type": "code",
   "execution_count": null,
   "id": "f51ef9db-0525-4ec1-b1cc-575eaea96568",
   "metadata": {
    "execution": {
     "iopub.execute_input": "2025-10-20T22:28:33.375906Z",
     "iopub.status.busy": "2025-10-20T22:28:33.375694Z",
     "iopub.status.idle": "2025-10-20T22:28:40.311073Z",
     "shell.execute_reply": "2025-10-20T22:28:40.310236Z",
     "shell.execute_reply.started": "2025-10-20T22:28:33.375884Z"
    }
   },
   "outputs": [],
   "source": [
    "from pyspark.sql.functions import col, explode, map_values\n",
    "\n",
    "# Load from STAC datasource\n",
    "df = (sedona.read.format(\"stac\") \n",
    "    .option(\"itemsLimitMax\", \"1000\") \n",
    "    .option(\"itemsLimitPerRequest\", \"200\") \n",
    "    .load(\"https://earth-search.aws.element84.com/v1/collections/sentinel-2-c1-l2a\")  # STAC Endpoint\n",
    "    .where(f\"ST_INTERSECTS(geometry, ST_GeomFromWKT('{_aoi}'))\")                      # Apply Spatial Filter\n",
    "    .withColumn(\"rast_nir\", expr(\"assets.nir.rast\"))                                  # Promote the NIR band\n",
    "    .withColumn(\"rast_red\", expr(\"assets.red.rast\"))                                  # Promote the Red band\n",
    "    .select(\"id\",                                                                     #--------------------\n",
    "            expr(\"date(datetime)\"),                                                   #\n",
    "            col(\"eo:cloud_cover\").alias(\"cloud_cover\"),                               #\n",
    "            col(\"grid:code\").alias(\"grid_code\"),                                      #\n",
    "            \"geometry\",                                                               # Select Attributes\n",
    "            \"rast_red\",                                                               #\n",
    "            \"rast_nir\",                                                               #\n",
    "            \"platform\",                                                               #\n",
    "            \"constellation\",                                                          #--------------------\n",
    "           )\n",
    "    .filter(\"cloud_cover <  10\")                                                      #Apply the cloud cover filter\n",
    "    .filter(\"DATE(datetime) between '2024-06-01' and'2024-07-31'\")                    #Apply Date Range Filter\n",
    "    .orderBy(expr(\"date(datetime)\"))\n",
    "    .repartition(1_000)\n",
    "    .cache()\n",
    "     )\n",
    "df.createOrReplaceTempView(\"asset_items\")\n",
    "df.show()"
   ]
  },
  {
   "cell_type": "code",
   "execution_count": null,
   "id": "96cc0fb7-34e2-454e-bf77-1f7c54994bc3",
   "metadata": {
    "execution": {
     "iopub.execute_input": "2025-10-20T22:28:40.311974Z",
     "iopub.status.busy": "2025-10-20T22:28:40.311786Z",
     "iopub.status.idle": "2025-10-20T22:28:59.322832Z",
     "shell.execute_reply": "2025-10-20T22:28:59.322100Z",
     "shell.execute_reply.started": "2025-10-20T22:28:40.311953Z"
    }
   },
   "outputs": [],
   "source": [
    "dfImage = df.limit(5) \\\n",
    "    .selectExpr(\"RS_AsImage(rast_red, 300) as raster_image1\")\n",
    "\n",
    "# Display the image\n",
    "SedonaUtils.display_image(dfImage)"
   ]
  },
  {
   "cell_type": "markdown",
   "id": "0961a124-952d-4c15-bddc-e193d6325c0f",
   "metadata": {},
   "source": [
    "## Stacking the Red and NIR bands into one raster"
   ]
  },
  {
   "cell_type": "code",
   "execution_count": null,
   "id": "49cfc067-8a8e-493a-ac4d-641b0ad52ea9",
   "metadata": {
    "execution": {
     "iopub.execute_input": "2025-10-20T22:28:59.323674Z",
     "iopub.status.busy": "2025-10-20T22:28:59.323546Z",
     "iopub.status.idle": "2025-10-20T22:31:40.856778Z",
     "shell.execute_reply": "2025-10-20T22:31:40.856019Z",
     "shell.execute_reply.started": "2025-10-20T22:28:59.323659Z"
    }
   },
   "outputs": [],
   "source": [
    "tile_size = 512\n",
    "stackTileExploded_df = sedona.sql(f'''\n",
    "   with exp as ( SELECT *, \n",
    "        RS_StackTileExplode(Array(rast_red, \n",
    "                                  rast_nir\n",
    "                                  ),\n",
    "                            0, \n",
    "                            {tile_size}, {tile_size},\n",
    "                            false)\n",
    "    FROM asset_items\n",
    "    )\n",
    "    SELECT\n",
    "        id,\n",
    "        x,\n",
    "        y,\n",
    "        datetime,\n",
    "        grid_code,\n",
    "        tile as rast,\n",
    "        RS_ENVELOPE(tile) as geometry,\n",
    "        RS_NumBands(tile) as band_cnt\n",
    "    FROM \n",
    "        exp\n",
    "''')\n",
    "\n",
    "stackTileExploded_df = stackTileExploded_df.repartition(1000)\n",
    "\n",
    "from pyspark.storagelevel import StorageLevel\n",
    "stackTileExploded_df = stackTileExploded_df.persist(StorageLevel.DISK_ONLY)\n",
    "print(\"Count:\", stackTileExploded_df.count())\n",
    "stackTileExploded_df.createOrReplaceTempView(\"tiled_raster\")"
   ]
  },
  {
   "cell_type": "markdown",
   "id": "d96ce1eb-ae8a-41e7-b315-3bac77f80901",
   "metadata": {},
   "source": [
    "## Calculating NDVI index"
   ]
  },
  {
   "cell_type": "code",
   "execution_count": null,
   "id": "1b5486b3-e494-46b9-a6e5-c34dae7170db",
   "metadata": {
    "execution": {
     "iopub.execute_input": "2025-10-20T22:31:40.857613Z",
     "iopub.status.busy": "2025-10-20T22:31:40.857483Z",
     "iopub.status.idle": "2025-10-20T22:34:21.902862Z",
     "shell.execute_reply": "2025-10-20T22:34:21.901999Z",
     "shell.execute_reply.started": "2025-10-20T22:31:40.857599Z"
    }
   },
   "outputs": [],
   "source": [
    "ndvi_house = sedona.sql(\"\"\"\n",
    "\n",
    "WITH ndvi_raster AS (\n",
    "SELECT\n",
    "        a.geometry_buffer,\n",
    "        a.sale_id,\n",
    "        ndvi\n",
    "FROM\n",
    "    house_sales a\n",
    "JOIN\n",
    "    (SELECT\n",
    "       geometry,\n",
    "       datetime,\n",
    "       RS_MapAlgebra(rast, 'D', 'out = (rast[1] > 0 && rast[0] > 0) ? (rast[1] - rast[0]) / (rast[1] + rast[0]) : null;') as ndvi\n",
    "     FROM tiled_raster\n",
    "     WHERE NOT isnan(RS_SummaryStats(rast,'max'))) b\n",
    "ON\n",
    "   ST_Intersects(b.geometry,ST_TRANSFORM(a.geometry_buffer,\"EPSG:4269\",\"EPSG:32610\"))\n",
    "),\n",
    "zonal_stats (\n",
    "SELECT\n",
    "    RS_ZONALSTATS(ndvi,geometry_buffer,'mean') mean_ndvi,\n",
    "    sale_id\n",
    "FROM\n",
    "    ndvi_raster\n",
    ")\n",
    "\n",
    "SELECT \n",
    "    AVG(mean_ndvi) AS mean_ndvi,\n",
    "    sale_id\n",
    "FROM\n",
    "    zonal_stats\n",
    "GROUP BY\n",
    "    sale_id\n",
    "\n",
    "\"\"\").cache() # Caching the result as I will be using the result more than once. When converting this into a job, please remove .cache(), .count(), and .show() below\n",
    "\n",
    "ndvi_house.show()"
   ]
  },
  {
   "cell_type": "code",
   "execution_count": null,
   "id": "755b1810-da9f-486a-8e72-770590093a93",
   "metadata": {
    "execution": {
     "iopub.execute_input": "2025-10-20T22:34:21.903697Z",
     "iopub.status.busy": "2025-10-20T22:34:21.903491Z",
     "iopub.status.idle": "2025-10-20T22:34:21.922855Z",
     "shell.execute_reply": "2025-10-20T22:34:21.922103Z",
     "shell.execute_reply.started": "2025-10-20T22:34:21.903674Z"
    }
   },
   "outputs": [],
   "source": [
    "ndvi_house.createOrReplaceTempView(\"ndvi_house\")"
   ]
  },
  {
   "cell_type": "code",
   "execution_count": null,
   "id": "cd917f7b-c06c-45a5-aec5-cdc3aefd970e",
   "metadata": {
    "execution": {
     "iopub.execute_input": "2025-10-20T22:34:21.923667Z",
     "iopub.status.busy": "2025-10-20T22:34:21.923459Z",
     "iopub.status.idle": "2025-10-20T22:34:22.532161Z",
     "shell.execute_reply": "2025-10-20T22:34:22.531538Z",
     "shell.execute_reply.started": "2025-10-20T22:34:21.923647Z"
    }
   },
   "outputs": [],
   "source": [
    "ndvi_house.count()"
   ]
  },
  {
   "cell_type": "code",
   "execution_count": null,
   "id": "4f7d5e44-6966-4061-b37f-399acd689718",
   "metadata": {
    "execution": {
     "iopub.execute_input": "2025-10-20T21:29:05.177408Z",
     "iopub.status.busy": "2025-10-20T21:29:05.177222Z",
     "iopub.status.idle": "2025-10-20T21:29:05.180319Z",
     "shell.execute_reply": "2025-10-20T21:29:05.179700Z",
     "shell.execute_reply.started": "2025-10-20T21:29:05.177393Z"
    }
   },
   "outputs": [],
   "source": [
    "database = \"gde_silver\""
   ]
  },
  {
   "cell_type": "code",
   "execution_count": null,
   "id": "cfe278fc-e600-4ba5-aef2-7b5805a78724",
   "metadata": {
    "execution": {
     "iopub.execute_input": "2025-10-19T02:52:47.349836Z",
     "iopub.status.busy": "2025-10-19T02:52:47.349620Z",
     "iopub.status.idle": "2025-10-19T02:52:47.423463Z",
     "shell.execute_reply": "2025-10-19T02:52:47.422844Z",
     "shell.execute_reply.started": "2025-10-19T02:52:47.349820Z"
    }
   },
   "outputs": [],
   "source": [
    "sedona.sql(f\"CREATE DATABASE IF NOT EXISTS org_catalog.{database}\").show()"
   ]
  },
  {
   "cell_type": "code",
   "execution_count": null,
   "id": "660134af-b5b1-485f-962a-0301c66ccf53",
   "metadata": {
    "execution": {
     "iopub.execute_input": "2025-10-20T21:29:17.042425Z",
     "iopub.status.busy": "2025-10-20T21:29:17.042238Z",
     "iopub.status.idle": "2025-10-20T21:29:23.874866Z",
     "shell.execute_reply": "2025-10-20T21:29:23.873798Z",
     "shell.execute_reply.started": "2025-10-20T21:29:17.042410Z"
    }
   },
   "outputs": [],
   "source": [
    "sedona.sql(\"\"\"\n",
    "\n",
    "SELECT \n",
    "    a.*,\n",
    "    b.mean_ndvi as mean_ndvi_500m_radius\n",
    "FROM\n",
    "    house_sales a\n",
    "JOIN\n",
    "    ndvi_house b\n",
    "ON\n",
    "    a.sale_id = b.sale_id\n",
    "\n",
    "\"\"\").drop(\"geometry_buffer\").writeTo(f\"org_catalog.{database}.house_sales_silver\").createOrReplace()"
   ]
  },
  {
   "cell_type": "code",
   "execution_count": null,
   "id": "d42b2fa3-914d-45b8-8b20-31575536b305",
   "metadata": {},
   "outputs": [],
   "source": []
  },
  {
   "cell_type": "code",
   "execution_count": null,
   "id": "9914db6c-cf10-4f92-89a7-a15a56fc36c2",
   "metadata": {},
   "outputs": [],
   "source": []
  },
  {
   "cell_type": "code",
   "execution_count": null,
   "id": "9b1fc9b7-aef4-412f-a6a5-b979ee52581c",
   "metadata": {},
   "outputs": [],
   "source": []
  },
  {
   "cell_type": "code",
   "execution_count": null,
   "id": "465afefc-c063-459a-8734-c700bb8bdcd4",
   "metadata": {},
   "outputs": [],
   "source": []
  }
 ],
 "metadata": {
  "kernelspec": {
   "display_name": "Python 3 (ipykernel)",
   "language": "python",
   "name": "python3"
  },
  "language_info": {
   "codemirror_mode": {
    "name": "ipython",
    "version": 3
   },
   "file_extension": ".py",
   "mimetype": "text/x-python",
   "name": "python",
   "nbconvert_exporter": "python",
   "pygments_lexer": "ipython3",
   "version": "3.11.14"
  }
 },
 "nbformat": 4,
 "nbformat_minor": 5
}
