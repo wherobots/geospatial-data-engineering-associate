{
 "cells": [
  {
   "cell_type": "code",
   "execution_count": null,
   "id": "37cca427-ff53-45be-9096-1537c1b48981",
   "metadata": {},
   "outputs": [],
   "source": [
    "from sedona.spark import *\n",
    "from pyspark.sql.functions import *\n",
    "from pyspark.sql.utils import AnalysisException\n",
    "\n",
    "config = SedonaContext.builder() \\\n",
    "    .getOrCreate()\n",
    "\n",
    "sedona = SedonaContext.create(config)"
   ]
  },
  {
   "cell_type": "markdown",
   "id": "053cce77-3061-4951-a497-931ee37e13c8",
   "metadata": {
    "execution": {
     "iopub.execute_input": "2025-10-21T00:56:57.819770Z",
     "iopub.status.busy": "2025-10-21T00:56:57.819562Z",
     "iopub.status.idle": "2025-10-21T00:56:57.825182Z",
     "shell.execute_reply": "2025-10-21T00:56:57.824497Z",
     "shell.execute_reply.started": "2025-10-21T00:56:57.819755Z"
    }
   },
   "source": [
    "# Recommended runtime\n",
    "\n",
    "## Tiny\n",
    "\n",
    "# Cost: \n",
    "\n",
    "Cost of executing this over King County.\n",
    "\n",
    "- **>$1.5**\n",
    "\n",
    "Cost of executing this over Kirkland.\n",
    "\n",
    "- **>$0.4**"
   ]
  },
  {
   "cell_type": "markdown",
   "id": "0981b8d5-0398-462c-9f3f-4eaa97209d11",
   "metadata": {},
   "source": [
    "Make sure to filter out the unnecessary rasters outside of King County.\n",
    "\n",
    "\n",
    "```python\n",
    "import wkls\n",
    "\n",
    "_aoi = wkls.us.wa.kingcounty.wkt()\n",
    "```"
   ]
  },
  {
   "cell_type": "code",
   "execution_count": null,
   "id": "a456d7f8-ae50-4f97-9e78-d7ddd60a7c1b",
   "metadata": {},
   "outputs": [],
   "source": [
    "import wkls\n",
    "\n",
    "\n",
    "_aoi = wkls.us.wa.kirkland.wkt()"
   ]
  },
  {
   "cell_type": "code",
   "execution_count": null,
   "id": "c1adfee7-9ed6-4cdf-a74d-09147b54a0e7",
   "metadata": {},
   "outputs": [],
   "source": [
    "try:\n",
    "    print(\"Trying to load house_sales_silver dataset from gde_silver database\\n\\n\")\n",
    "    house_sales_df = (\n",
    "        sedona.table(f\"org_catalog.gde_silver.king_co_homes\")\n",
    "                .where(f\"ST_Intersects(geometry, ST_GeomFromWKT('{_aoi}'))\")\n",
    "                .withColumn(\"geometry_buffer\", expr(\"ST_Buffer(geometry, 500, true)\"))\n",
    "    )\n",
    "    print(\"house_sales_silver dataset found and loaded.\\n\\n\")\n",
    "except AnalysisException as e:\n",
    "    print(\"house_sales_silver table doesn't exist, reading the gde_bronze.king_co_homes\\n\\n\")\n",
    "\n",
    "    house_sales_df = (\n",
    "        sedona.table(f\"org_catalog.gde_bronze.house_sales_king_co_homesbronze\")\n",
    "                .where(f\"ST_Intersects(geometry, ST_GeomFromWKT('{_aoi}'))\")\n",
    "                .withColumn(\"geometry_buffer\", expr(\"ST_Buffer(geometry, 500, true)\"))\n",
    "    )\n",
    "\n",
    "\n",
    "house_sales_df.createOrReplaceTempView(\"house_sales\")\n",
    "house_sales_df.show()"
   ]
  },
  {
   "cell_type": "code",
   "execution_count": null,
   "id": "3c1298f4-06bf-422c-8a8f-b5e1f06bda4f",
   "metadata": {},
   "outputs": [],
   "source": [
    "elevation_raster = (\n",
    "    sedona.table(\"org_catalog.gde_bronze.elevation_bronze\")\n",
    "        .where(f\"RS_Intersects(rast, ST_GeomFromWKT('{_aoi}'))\")\n",
    ")\n",
    "\n",
    "elevation_raster.createOrReplaceTempView(\"elevation_raster\")"
   ]
  },
  {
   "cell_type": "markdown",
   "id": "89690e32-f4be-41b6-91b8-4d5b00cc788a",
   "metadata": {},
   "source": [
    "# Calculate zonal stats on the elevation raster over the AOI\n",
    "\n",
    "The AOIs are the house buffered polygon."
   ]
  },
  {
   "cell_type": "code",
   "execution_count": null,
   "id": "4b5e1272-81e0-4dc1-a51f-1daea1c6793c",
   "metadata": {},
   "outputs": [],
   "source": [
    "zonal_stats = sedona.sql(f\"\"\"\n",
    "\n",
    "WITH zonal AS (\n",
    "SELECT \n",
    "    RS_ZonalStatsAll(rast, geometry_buffer) AS zonal_stats,\n",
    "    h.*\n",
    "FROM\n",
    "    house_sales h\n",
    "JOIN\n",
    "    elevation_raster e\n",
    "ON\n",
    "    RS_Intersects(h.geometry_buffer, e.rast)\n",
    ")\n",
    "\n",
    "SELECT\n",
    "    *,\n",
    "    zonal_stats.min as elevation_min,\n",
    "    zonal_stats.max as elevation_max,\n",
    "    zonal_stats.mean as elevation_mean,\n",
    "    zonal_stats.stddev as elevation_standard_deviation\n",
    "FROM\n",
    "    zonal\n",
    "\n",
    "\"\"\").cache()\n",
    "\n",
    "zonal_stats.show()"
   ]
  },
  {
   "cell_type": "code",
   "execution_count": null,
   "id": "db25e3da-7e69-4754-94fe-daaf17851d94",
   "metadata": {},
   "outputs": [],
   "source": [
    "(zonal_stats.drop(\"geometry_buffer\", \"zonal_stats\") # Dropping unnecessary columns before writing it out to a table\n",
    "        .writeTo(\"org_catalog.gde_silver.house_sales_silver\")\n",
    "        .createOrReplace()\n",
    ")"
   ]
  },
  {
   "cell_type": "markdown",
   "id": "257ca6ec-1882-48c6-baa1-e3d49457d52c",
   "metadata": {},
   "source": [
    "# TRI enrichment\n",
    "\n",
    "Re-reading the `house_sales_silver` table with elevation stats in it."
   ]
  },
  {
   "cell_type": "code",
   "execution_count": null,
   "id": "285ec242-576b-4471-9bca-7733a5f83f57",
   "metadata": {},
   "outputs": [],
   "source": [
    "house_sales_df = (\n",
    "    sedona.table(f\"org_catalog.gde_silver.house_sales_silver\")\n",
    "            .where(f\"ST_Intersects(geometry, ST_GeomFromWKT('{_aoi}'))\")\n",
    "            .withColumn(\"geometry_buffer\", expr(\"ST_Buffer(geometry, 500, true)\"))\n",
    ")\n",
    "\n",
    "\n",
    "house_sales_df.createOrReplaceTempView(\"house_sales\")\n",
    "house_sales_df.show()"
   ]
  },
  {
   "cell_type": "markdown",
   "id": "ad9339e0-7c27-4a49-8936-c9dbe55a3884",
   "metadata": {},
   "source": [
    "## Clipping the elevation raster to AOI\n",
    "\n",
    "Over here the AOI is the house buffered polygons."
   ]
  },
  {
   "cell_type": "code",
   "execution_count": null,
   "id": "d754e9a7-31b2-441b-9ce5-b9e013ff0f4d",
   "metadata": {},
   "outputs": [],
   "source": [
    "elevation_raster_clipped = sedona.sql(f\"\"\"\n",
    "\n",
    "SELECT \n",
    "    h.*,\n",
    "    RS_Clip(\n",
    "        rast,\n",
    "        1,\n",
    "        geometry_buffer\n",
    "    ) AS clipped_rast\n",
    "FROM\n",
    "    elevation_raster e\n",
    "JOIN\n",
    "    house_sales h\n",
    "ON\n",
    "    RS_Intersects(e.rast, h.geometry_buffer)\n",
    "\n",
    "\"\"\")\n",
    "\n",
    "elevation_raster_clipped.createOrReplaceTempView(\"elevation_raster_clipped\")"
   ]
  },
  {
   "cell_type": "markdown",
   "id": "e13cb12f-4759-4d3f-a006-96c205e42651",
   "metadata": {},
   "source": [
    "## Compute TRI rasters with clipped elevation rasters\n",
    "\n",
    "TRI rasters are generated using a kernel size of 3x3. The TRI is defined as:\n",
    "\n",
    "\n",
    "![image.png](https://raw.githubusercontent.com/wherobots/geospatial-data-engineering-associate/refs/heads/week-3/week-3/assets/tri_formula.png)\n",
    "![image.png](https://raw.githubusercontent.com/wherobots/geospatial-data-engineering-associate/refs/heads/week-3/week-3/assets/tri_cal_representation.png)\n",
    "\n",
    "\n",
    "where xi refers to each of the eight neighbors of the center cell E."
   ]
  },
  {
   "cell_type": "code",
   "execution_count": null,
   "id": "b67d02c6-8e07-4530-adfc-244ad9ff1b4a",
   "metadata": {},
   "outputs": [],
   "source": [
    "tri_raster = sedona.sql('''\n",
    "    SELECT\n",
    "        *,\n",
    "        RS_MapAlgebra(\n",
    "            clipped_rast,\n",
    "            'D',\n",
    "            '\n",
    "            if (x() > 0 && x() < width() - 1 && y() > 0 && y() < height() - 1) {\n",
    "                // Calculate the TRI for each cell that has valid neighbors\n",
    "                out = (abs(rast - rast[-1, 0]) + abs(rast - rast[1, 0]) + \n",
    "                       abs(rast - rast[0, -1]) + abs(rast - rast[0, 1]) + \n",
    "                       abs(rast - rast[-1, -1]) + abs(rast - rast[-1, 1]) + \n",
    "                       abs(rast - rast[1, -1]) + abs(rast - rast[1, 1])) / 8;\n",
    "            } else {\n",
    "                out = 0;  // Set a default or \"no data\" value for edge cells\n",
    "            }\n",
    "            '\n",
    "        ) AS tri_raster\n",
    "    FROM elevation_raster_clipped\n",
    "''')\n",
    "\n",
    "tri_raster.createOrReplaceTempView(\"tri_raster\")"
   ]
  },
  {
   "cell_type": "code",
   "execution_count": null,
   "id": "b0aa2ab8-f61d-47de-a3b2-ea19d0f046da",
   "metadata": {},
   "outputs": [],
   "source": [
    "tri_enriched = sedona.sql(\"\"\"\n",
    "\n",
    "SELECT \n",
    "    *,\n",
    "    RS_SummaryStats(tri_raster, 'mean') as mean_tri\n",
    "\n",
    "FROM tri_raster\n",
    "\n",
    "\"\"\").drop(\"zonal_stats\", \"geometry_buffer\", \"clipped_rast\", \"tri_raster\").cache()\n",
    "\n",
    "# tri_enriched.show(10, 0)\n",
    "tri_enriched.show()"
   ]
  },
  {
   "cell_type": "code",
   "execution_count": null,
   "id": "41b6867b-d82e-4dc8-9a48-2196738598b8",
   "metadata": {},
   "outputs": [],
   "source": [
    "tri_enriched.writeTo(\"org_catalog.gde_silver.house_sales_silver\").createOrReplace()"
   ]
  },
  {
   "cell_type": "code",
   "execution_count": null,
   "id": "750725b0-7dab-4b1c-bfd2-f7c20f097b99",
   "metadata": {},
   "outputs": [],
   "source": []
  }
 ],
 "metadata": {
  "kernelspec": {
   "display_name": "Python 3 (ipykernel)",
   "language": "python",
   "name": "python3"
  },
  "language_info": {
   "codemirror_mode": {
    "name": "ipython",
    "version": 3
   },
   "file_extension": ".py",
   "mimetype": "text/x-python",
   "name": "python",
   "nbconvert_exporter": "python",
   "pygments_lexer": "ipython3",
   "version": "3.11.14"
  }
 },
 "nbformat": 4,
 "nbformat_minor": 5
}
