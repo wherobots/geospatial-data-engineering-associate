{
 "cells": [
  {
   "cell_type": "code",
   "execution_count": null,
   "id": "6d3bd301-63b5-410c-965b-e44c2522c4c0",
   "metadata": {},
   "outputs": [],
   "source": [
    "from sedona.spark import *"
   ]
  },
  {
   "cell_type": "code",
   "execution_count": null,
   "id": "a2a504ba-b9bd-4d2d-97c2-67f26e30b611",
   "metadata": {},
   "outputs": [],
   "source": [
    "config = SedonaContext.builder().getOrCreate()\n",
    "sedona = SedonaContext.create(config)"
   ]
  },
  {
   "cell_type": "code",
   "execution_count": null,
   "id": "26916cf1-280c-46fe-83eb-ba7020bc3c31",
   "metadata": {},
   "outputs": [],
   "source": [
    "database = 'gde_silver'\n",
    "sedona.sql(f'CREATE DATABASE IF NOT EXISTS org_catalog.{database}')"
   ]
  },
  {
   "cell_type": "code",
   "execution_count": null,
   "id": "2f097f17-b5b5-4392-b53d-e23edc484c46",
   "metadata": {},
   "outputs": [],
   "source": [
    "prefix = 's3://wherobots-examples/gdea-course-data/raw-data/'"
   ]
  },
  {
   "cell_type": "code",
   "execution_count": null,
   "id": "b33e0a38-e4ea-4f9e-98d4-c0df70749cb1",
   "metadata": {},
   "outputs": [],
   "source": [
    "homes = sedona.read.format('csv') \\\n",
    "    .option('header', 'true') \\\n",
    "    .option('inferSchema', 'true') \\\n",
    "    .option('skipRows', 1) \\\n",
    "    .load(f'{prefix}' + 'sales_king_county.csv')"
   ]
  },
  {
   "cell_type": "code",
   "execution_count": null,
   "id": "99ef415b-42ab-4db7-8772-4ad308cdc4eb",
   "metadata": {},
   "outputs": [],
   "source": [
    "homes.show()"
   ]
  },
  {
   "cell_type": "code",
   "execution_count": null,
   "id": "111c69ac-e659-4d39-b5ff-db67eb956d36",
   "metadata": {},
   "outputs": [],
   "source": [
    "homes.writeTo(f\"org_catalog.gde_bronze.king_co_homes\").createOrReplace()"
   ]
  },
  {
   "cell_type": "code",
   "execution_count": null,
   "id": "95e7e721-efe3-4ea6-b0c6-e93c53f73941",
   "metadata": {},
   "outputs": [],
   "source": [
    "sedona.sql(f'''\n",
    "alter table org_catalog.gde_bronze.king_co_homes add column geometry geometry\n",
    "''')"
   ]
  },
  {
   "cell_type": "code",
   "execution_count": null,
   "id": "2860b281-72b3-46a7-84f1-96b4a32335f4",
   "metadata": {},
   "outputs": [],
   "source": [
    "sedona.sql(f'''\n",
    "update org_catalog.gde_bronze.king_co_homes\n",
    "set geometry = st_point(longitude, latitude) \n",
    "''')"
   ]
  },
  {
   "cell_type": "code",
   "execution_count": null,
   "id": "77030325-dec9-431c-b94e-5832097daf5f",
   "metadata": {},
   "outputs": [],
   "source": [
    "sedona.sql(f'''\n",
    "create or replace table org_catalog.gde_bronze.king_co_homes_conflated as\n",
    "select a.*,\n",
    "a.geometry as point,\n",
    "b.geometry,\n",
    "b.id as overture_id,\n",
    "b.height\n",
    "from org_catalog.gde_bronze.king_co_homes a\n",
    "join wherobots_open_data.overture_maps_foundation.buildings_building b\n",
    "on st_knn(a.geometry, b.geometry, 1, true, 100)\n",
    "''').show()"
   ]
  },
  {
   "cell_type": "code",
   "execution_count": null,
   "id": "d0cba928-dde9-4b31-9db6-91c79573c4c4",
   "metadata": {},
   "outputs": [],
   "source": []
  }
 ],
 "metadata": {
  "kernelspec": {
   "display_name": "Python 3 (ipykernel)",
   "language": "python",
   "name": "python3"
  },
  "language_info": {
   "codemirror_mode": {
    "name": "ipython",
    "version": 3
   },
   "file_extension": ".py",
   "mimetype": "text/x-python",
   "name": "python",
   "nbconvert_exporter": "python",
   "pygments_lexer": "ipython3",
   "version": "3.11.14"
  }
 },
 "nbformat": 4,
 "nbformat_minor": 5
}
