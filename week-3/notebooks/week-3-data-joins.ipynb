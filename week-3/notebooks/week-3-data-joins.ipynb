{
 "cells": [
  {
   "cell_type": "code",
   "execution_count": null,
   "id": "fcd1cb8a-f331-4caa-b8a0-e5da0301586e",
   "metadata": {},
   "outputs": [],
   "source": [
    "from sedona.spark import *\n",
    "config = SedonaContext.builder().getOrCreate()\n",
    "sedona = SedonaContext.create(config)"
   ]
  },
  {
   "cell_type": "code",
   "execution_count": null,
   "id": "327337ed-a364-4195-a3a9-be24d7827c50",
   "metadata": {},
   "outputs": [],
   "source": [
    "database = 'gde_silver'"
   ]
  },
  {
   "cell_type": "code",
   "execution_count": null,
   "id": "5a37f611-e83c-4ad5-a31d-8b376f4fdaba",
   "metadata": {},
   "outputs": [],
   "source": [
    "# Join Census Data to Polygons\n",
    "\n",
    "sedona.sql(f'''\n",
    "create or replace table org_catalog.{database}.census_data as\n",
    "select\n",
    "a.geometry,\n",
    "a.GEOID as geoid,\n",
    "b._c2 as total_pop, \n",
    "c._c2 as median_age,\n",
    "d._c2 as median_income\n",
    "from org_catalog.gde_bronze.block_groups_bronze a\n",
    "join org_catalog.gde_bronze.total_pop_bronze b\n",
    "on right(b._c0, 12) = a.GEOID\n",
    "join org_catalog.gde_bronze.median_age_bronze c\n",
    "on right(c._c0, 12) = a.GEOID\n",
    "join org_catalog.gde_bronze.median_income_bronze d\n",
    "on right(d._c0, 12) = a.GEOID\n",
    "''')"
   ]
  },
  {
   "cell_type": "code",
   "execution_count": null,
   "id": "1d63bf28-b5fd-4292-b82e-0865313ea7d8",
   "metadata": {},
   "outputs": [],
   "source": [
    "# Join School Data to School Points\n",
    "\n",
    "sedona.sql(f'''\n",
    "create or replace table org_catalog.{database}.school_data as\n",
    "\n",
    "with one as (\n",
    "select \n",
    "_c3 as ESDName, \n",
    "_c5 as DistrictCode,\n",
    "_c8 as SchoolCode,\n",
    "_c9 as SchoolName,\n",
    "sum(_c18) as total_students,\n",
    "sum(_c21) as high\n",
    "from org_catalog.gde_bronze.report_card_bronze\n",
    "where _c13 = 'All Students'\n",
    "and _c14 = 'All Grades'\n",
    "group by 1, 2, 3, 4\n",
    ")\n",
    "\n",
    "select\n",
    "a.geometry,\n",
    "a.ESDName,\n",
    "a.School,\n",
    "b.SchoolCode,\n",
    "b.SchoolName,\n",
    "b.high/b.total_students as high_achievement_percent\n",
    "from org_catalog.gde_bronze.schools_bronze a\n",
    "join one b\n",
    "on a.ESDName = b.ESDName\n",
    "and a.School = b.SchoolName\n",
    "''')"
   ]
  }
 ],
 "metadata": {
  "kernelspec": {
   "display_name": "Python 3 (ipykernel)",
   "language": "python",
   "name": "python3"
  },
  "language_info": {
   "codemirror_mode": {
    "name": "ipython",
    "version": 3
   },
   "file_extension": ".py",
   "mimetype": "text/x-python",
   "name": "python",
   "nbconvert_exporter": "python",
   "pygments_lexer": "ipython3",
   "version": "3.11.14"
  }
 },
 "nbformat": 4,
 "nbformat_minor": 5
}
