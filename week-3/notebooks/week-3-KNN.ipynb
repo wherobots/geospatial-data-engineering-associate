{
 "cells": [
  {
   "cell_type": "code",
   "execution_count": null,
   "id": "408c57a2-8095-4458-b700-340fb2c38c28",
   "metadata": {
    "execution": {
     "iopub.execute_input": "2025-10-20T20:15:09.640381Z",
     "iopub.status.busy": "2025-10-20T20:15:09.640267Z",
     "iopub.status.idle": "2025-10-20T20:15:10.570847Z",
     "shell.execute_reply": "2025-10-20T20:15:10.570163Z",
     "shell.execute_reply.started": "2025-10-20T20:15:09.640367Z"
    }
   },
   "outputs": [],
   "source": [
    "from sedona.spark import *\n",
    "from pyspark.sql.functions import col, when, expr\n",
    "from sedona.sql.st_functions import ST_IsValid, ST_IsValidReason, ST_MakeValid\n",
    "from pyspark.sql import DataFrame\n",
    "import urllib.request\n",
    "import json"
   ]
  },
  {
   "cell_type": "code",
   "execution_count": null,
   "id": "6f54b40a-a33c-4539-aae7-5b04a0b18898",
   "metadata": {
    "execution": {
     "iopub.execute_input": "2025-10-20T20:15:10.577936Z",
     "iopub.status.busy": "2025-10-20T20:15:10.577755Z",
     "iopub.status.idle": "2025-10-20T20:16:46.351280Z",
     "shell.execute_reply": "2025-10-20T20:16:46.350684Z",
     "shell.execute_reply.started": "2025-10-20T20:15:10.577916Z"
    }
   },
   "outputs": [],
   "source": [
    "config = SedonaContext.builder().getOrCreate()\n",
    "sedona = SedonaContext.create(config)"
   ]
  },
  {
   "cell_type": "markdown",
   "id": "904f659d",
   "metadata": {},
   "source": [
    "## Grab Area of Interest"
   ]
  },
  {
   "cell_type": "code",
   "execution_count": null,
   "id": "ff48417a-a6dc-4182-852b-3335f1ec529a",
   "metadata": {
    "execution": {
     "iopub.execute_input": "2025-10-20T20:45:30.916600Z",
     "iopub.status.busy": "2025-10-20T20:45:30.916420Z",
     "iopub.status.idle": "2025-10-20T20:45:31.313297Z",
     "shell.execute_reply": "2025-10-20T20:45:31.312754Z",
     "shell.execute_reply.started": "2025-10-20T20:45:30.916586Z"
    }
   },
   "outputs": [],
   "source": [
    "import wkls\n",
    "\n",
    "# seattle_dt = 'POLYGON ((-122.354307 47.612065, -122.318087 47.612065, -122.318087 47.626645, -122.354307 47.626645, -122.354307 47.612065))'\n",
    "\n",
    "washington = wkls.us.wa.wkt()\n",
    "seattle = wkls.us.wa.seattle.wkt()\n",
    "kirkland = wkls.us.wa.kirkland.wkt()\n",
    "bellevue = wkls.us.wa.bellevue.wkt()"
   ]
  },
  {
   "cell_type": "code",
   "execution_count": null,
   "id": "c102a50b-19ed-4762-9aa4-2435f2cf7fc7",
   "metadata": {
    "execution": {
     "iopub.execute_input": "2025-10-20T20:59:02.120084Z",
     "iopub.status.busy": "2025-10-20T20:59:02.119878Z",
     "iopub.status.idle": "2025-10-20T20:59:02.216475Z",
     "shell.execute_reply": "2025-10-20T20:59:02.215801Z",
     "shell.execute_reply.started": "2025-10-20T20:59:02.120070Z"
    }
   },
   "outputs": [],
   "source": [
    "SedonaKepler.create_map(sedona.sql(f\"SELECT ST_GeomFromWKT('{kirkland}') AS geometry\"), name=\"Area of Interest\")"
   ]
  },
  {
   "cell_type": "markdown",
   "id": "cd84d970-ca87-4294-a6d8-7288e2870cb5",
   "metadata": {},
   "source": [
    "## Grab residential Buildings\n",
    "\n",
    "The Spatial Filter gets pushed down to storage level to only grab residential buildings that intersect the AOI"
   ]
  },
  {
   "cell_type": "code",
   "execution_count": null,
   "id": "37069c0c-9100-42df-a49a-a2d9d4bcedcd",
   "metadata": {
    "execution": {
     "iopub.execute_input": "2025-10-20T20:52:20.171308Z",
     "iopub.status.busy": "2025-10-20T20:52:20.171124Z",
     "iopub.status.idle": "2025-10-20T20:52:25.901825Z",
     "shell.execute_reply": "2025-10-20T20:52:25.901130Z",
     "shell.execute_reply.started": "2025-10-20T20:52:20.171294Z"
    }
   },
   "outputs": [],
   "source": [
    "buildings_df = sedona.table(\"wherobots_open_data.overture_maps_foundation.buildings_building\")\\\n",
    "                .filter(f\"\"\"\n",
    "                    ST_Intersects(geometry, ST_GeomFromWKT('{kirkland}'))\n",
    "                    AND subtype == 'residential'\n",
    "                \"\"\")\n",
    "buildings_df.createOrReplaceTempView(\"buildings\")\n",
    "buildings_df.show(5)\n",
    "buildings_df.count()"
   ]
  },
  {
   "cell_type": "markdown",
   "id": "517ab1c1-5a5f-42fc-ae13-6308242a9340",
   "metadata": {},
   "source": [
    "## Grab Overture Places\n",
    "\n",
    "Same Spatial filter pushdown concept with Places of Interest (POI) dataset.\n",
    "\n",
    "Here, we apply a buffer of 1000m to the AOI to make sure buildings near the edge of the AOI have coverage of POIs on all sides"
   ]
  },
  {
   "cell_type": "code",
   "execution_count": null,
   "id": "365bb908-9513-41ae-8873-14635b63a174",
   "metadata": {
    "execution": {
     "iopub.execute_input": "2025-10-20T20:53:09.681144Z",
     "iopub.status.busy": "2025-10-20T20:53:09.680951Z",
     "iopub.status.idle": "2025-10-20T20:53:14.122273Z",
     "shell.execute_reply": "2025-10-20T20:53:14.121551Z",
     "shell.execute_reply.started": "2025-10-20T20:53:09.681129Z"
    }
   },
   "outputs": [],
   "source": [
    "places_df = sedona.table(\"wherobots_open_data.overture_maps_foundation.places_place\")\\\n",
    "                .filter(f\"\"\"\n",
    "                    ST_Intersects(\n",
    "                        geometry, \n",
    "                        ST_Buffer(ST_GeomFromWKT('{kirkland}'), 1000, true)\n",
    "                    )\n",
    "                \"\"\")\n",
    "places_df.createOrReplaceTempView(\"places\")\n",
    "places_df.show(5)\n",
    "places_df.count()"
   ]
  },
  {
   "cell_type": "markdown",
   "id": "e871b85b-420e-4739-814b-815287aaa1b3",
   "metadata": {},
   "source": [
    "### Coffee Shops"
   ]
  },
  {
   "cell_type": "code",
   "execution_count": null,
   "id": "f95f8c31-573b-42d1-9c49-1c4877e90f57",
   "metadata": {
    "execution": {
     "iopub.execute_input": "2025-10-20T20:53:14.123295Z",
     "iopub.status.busy": "2025-10-20T20:53:14.123050Z",
     "iopub.status.idle": "2025-10-20T20:53:18.664525Z",
     "shell.execute_reply": "2025-10-20T20:53:18.663852Z",
     "shell.execute_reply.started": "2025-10-20T20:53:14.123277Z"
    }
   },
   "outputs": [],
   "source": [
    "coffee_df = places_df.filter(\"categories.primary == 'coffee_shop'\")\n",
    "coffee_df.createOrReplaceTempView(\"coffee\")\n",
    "coffee_df.show(3)\n",
    "coffee_df.count()"
   ]
  },
  {
   "cell_type": "markdown",
   "id": "d7b66e36-87a4-4b85-9e84-fd33dc54ec0c",
   "metadata": {
    "execution": {
     "iopub.execute_input": "2025-10-20T13:56:31.598503Z",
     "iopub.status.busy": "2025-10-20T13:56:31.598308Z",
     "iopub.status.idle": "2025-10-20T13:56:31.601771Z",
     "shell.execute_reply": "2025-10-20T13:56:31.600652Z",
     "shell.execute_reply.started": "2025-10-20T13:56:31.598489Z"
    }
   },
   "source": [
    "### Grocery Stores"
   ]
  },
  {
   "cell_type": "code",
   "execution_count": null,
   "id": "97458f4a-d0f7-4ff2-8d1e-f53478c24e70",
   "metadata": {
    "execution": {
     "iopub.execute_input": "2025-10-20T20:53:18.665348Z",
     "iopub.status.busy": "2025-10-20T20:53:18.665126Z",
     "iopub.status.idle": "2025-10-20T20:53:23.565740Z",
     "shell.execute_reply": "2025-10-20T20:53:23.564941Z",
     "shell.execute_reply.started": "2025-10-20T20:53:18.665330Z"
    }
   },
   "outputs": [],
   "source": [
    "grocery_df = places_df.filter(\"categories.primary == 'grocery_store'\")\n",
    "grocery_df.createOrReplaceTempView(\"grocery\")\n",
    "grocery_df.show(3)\n",
    "grocery_df.count()"
   ]
  },
  {
   "cell_type": "markdown",
   "id": "31a30502-2a8c-4bbc-92af-a8d798313fbf",
   "metadata": {},
   "source": [
    "### Child Care"
   ]
  },
  {
   "cell_type": "code",
   "execution_count": null,
   "id": "197ad0bb-f444-4958-9ac4-9e54d24b256d",
   "metadata": {
    "execution": {
     "iopub.execute_input": "2025-10-20T20:53:23.566655Z",
     "iopub.status.busy": "2025-10-20T20:53:23.566462Z",
     "iopub.status.idle": "2025-10-20T20:53:28.315796Z",
     "shell.execute_reply": "2025-10-20T20:53:28.315245Z",
     "shell.execute_reply.started": "2025-10-20T20:53:23.566637Z"
    }
   },
   "outputs": [],
   "source": [
    "child_care_df = places_df.filter(\"categories.primary == 'child_care_and_day_care'\")\n",
    "child_care_df.createOrReplaceTempView(\"child_care\")\n",
    "child_care_df.show(3)\n",
    "child_care_df.count()"
   ]
  },
  {
   "cell_type": "markdown",
   "id": "3fbafff1-4ccb-49bd-b18b-9775288aff6d",
   "metadata": {},
   "source": [
    "### Gyms"
   ]
  },
  {
   "cell_type": "code",
   "execution_count": null,
   "id": "6abbeb10-d8e0-471c-be0e-6ad72d93ae03",
   "metadata": {
    "execution": {
     "iopub.execute_input": "2025-10-20T20:53:28.316449Z",
     "iopub.status.busy": "2025-10-20T20:53:28.316326Z",
     "iopub.status.idle": "2025-10-20T20:53:33.025859Z",
     "shell.execute_reply": "2025-10-20T20:53:33.025171Z",
     "shell.execute_reply.started": "2025-10-20T20:53:28.316436Z"
    }
   },
   "outputs": [],
   "source": [
    "gym_df = places_df.filter(\"categories.primary == 'gym'\")\n",
    "gym_df.createOrReplaceTempView(\"gym\")\n",
    "gym_df.show(3)\n",
    "gym_df.count()"
   ]
  },
  {
   "cell_type": "markdown",
   "id": "d44f0b20-d7cc-4d2d-8ea1-79524d5db16b",
   "metadata": {},
   "source": [
    "### Hospitals"
   ]
  },
  {
   "cell_type": "code",
   "execution_count": null,
   "id": "a9f853f8-0296-4974-95c9-50153376c8b8",
   "metadata": {
    "execution": {
     "iopub.execute_input": "2025-10-20T20:53:33.026505Z",
     "iopub.status.busy": "2025-10-20T20:53:33.026383Z",
     "iopub.status.idle": "2025-10-20T20:53:37.889503Z",
     "shell.execute_reply": "2025-10-20T20:53:37.888745Z",
     "shell.execute_reply.started": "2025-10-20T20:53:33.026492Z"
    }
   },
   "outputs": [],
   "source": [
    "hospital_df = places_df.filter(\"categories.primary == 'hospital'\")\n",
    "hospital_df.createOrReplaceTempView(\"hospital\")\n",
    "hospital_df.show(3)\n",
    "hospital_df.count()"
   ]
  },
  {
   "cell_type": "markdown",
   "id": "82b92781-c248-4250-9dbb-392af3189853",
   "metadata": {},
   "source": [
    "### Transit Stops"
   ]
  },
  {
   "cell_type": "code",
   "execution_count": null,
   "id": "4fa75368-4dad-4d7f-94e1-4febac59547a",
   "metadata": {
    "execution": {
     "iopub.execute_input": "2025-10-20T20:53:56.014713Z",
     "iopub.status.busy": "2025-10-20T20:53:56.014527Z",
     "iopub.status.idle": "2025-10-20T20:54:00.706436Z",
     "shell.execute_reply": "2025-10-20T20:54:00.705672Z",
     "shell.execute_reply.started": "2025-10-20T20:53:56.014700Z"
    }
   },
   "outputs": [],
   "source": [
    "transit_df = places_df.filter(\"categories.primary == 'transportation'\")\n",
    "transit_df.createOrReplaceTempView(\"transit\")\n",
    "transit_df.show(3)\n",
    "transit_df.count()"
   ]
  },
  {
   "cell_type": "markdown",
   "id": "571b9eaf-8a26-404b-923e-6f3f8e584859",
   "metadata": {},
   "source": [
    "### Schools"
   ]
  },
  {
   "cell_type": "code",
   "execution_count": null,
   "id": "198a6395-2a6f-48bf-b1c4-7df4d4eeffe7",
   "metadata": {
    "execution": {
     "iopub.execute_input": "2025-10-20T20:54:03.424590Z",
     "iopub.status.busy": "2025-10-20T20:54:03.424405Z",
     "iopub.status.idle": "2025-10-20T20:54:04.447693Z",
     "shell.execute_reply": "2025-10-20T20:54:04.446917Z",
     "shell.execute_reply.started": "2025-10-20T20:54:03.424576Z"
    }
   },
   "outputs": [],
   "source": [
    "schools_df = sedona.table(\"org_catalog.pranav_gde_bronze.schools_bronze\")\\\n",
    "                .filter(f\"ST_Intersects(geometry, ST_GeomFromWKT('{bellevue}'))\")\n",
    "schools_df.createOrReplaceTempView(\"school\")\n",
    "schools_df.show(3)\n",
    "schools_df.count()"
   ]
  },
  {
   "cell_type": "markdown",
   "id": "93b07847-88f0-4e27-9d6f-06d5ea32eb36",
   "metadata": {},
   "source": [
    "## Perform KNN join between all essential amenities and residential buildings in downtown Seattle area"
   ]
  },
  {
   "cell_type": "code",
   "execution_count": null,
   "id": "0d9a2bc7-bd4a-43e7-8279-4ed8fa95648a",
   "metadata": {
    "execution": {
     "iopub.execute_input": "2025-10-20T20:57:49.806897Z",
     "iopub.status.busy": "2025-10-20T20:57:49.806707Z",
     "iopub.status.idle": "2025-10-20T20:58:20.991627Z",
     "shell.execute_reply": "2025-10-20T20:58:20.991071Z",
     "shell.execute_reply.started": "2025-10-20T20:57:49.806882Z"
    }
   },
   "outputs": [],
   "source": [
    "%%time\n",
    "\n",
    "nearest_places_df = sedona.sql('''\n",
    "    SELECT\n",
    "        buildings.*,\n",
    "\n",
    "        -- Nearest coffee shop\n",
    "        coffee.id AS coffee_id,\n",
    "        coffee.names['primary'] AS coffee_name,\n",
    "        coffee.geometry AS coffee_geometry,\n",
    "        ST_DistanceSpheroid(buildings.geometry, coffee.geometry) AS coffee_distance,\n",
    "\n",
    "        -- Nearest grocery store\n",
    "        grocery.id AS grocery_id,\n",
    "        grocery.names['primary'] AS grocery_name,\n",
    "        grocery.geometry AS grocery_geometry,\n",
    "        ST_DistanceSpheroid(buildings.geometry, grocery.geometry) AS grocery_distance,\n",
    "\n",
    "        -- Nearest child care\n",
    "        child_care.id AS child_care_id,\n",
    "        child_care.names['primary'] AS child_care_name,\n",
    "        child_care.geometry AS child_care_geometry,\n",
    "        ST_DistanceSpheroid(buildings.geometry, child_care.geometry) AS child_care_distance,\n",
    "\n",
    "        -- Nearest gym\n",
    "        gym.id AS gym_id,\n",
    "        gym.names['primary'] AS gym_name,\n",
    "        gym.geometry AS gym_geometry,\n",
    "        ST_DistanceSpheroid(buildings.geometry, gym.geometry) AS gym_distance,\n",
    "\n",
    "        -- Nearest hospital\n",
    "        hospital.id AS hospital_id,\n",
    "        hospital.names['primary'] AS hospital_name,\n",
    "        hospital.geometry AS hospital_geometry,\n",
    "        ST_DistanceSpheroid(buildings.geometry, hospital.geometry) AS hospital_distance,\n",
    "\n",
    "        -- Nearest school\n",
    "        school.SchoolCode AS school_code,\n",
    "        school.School AS school_name,\n",
    "        school.SchoolCategory AS school_category,\n",
    "        school.geometry AS school_geometry,\n",
    "        ST_DistanceSpheroid(buildings.geometry, school.geometry) AS school_distance,\n",
    "\n",
    "        -- Nearest transit stop\n",
    "        transit.id AS transit_id,\n",
    "        transit.names['primary'] AS transit_name,\n",
    "        transit.geometry AS transit_geometry,\n",
    "        ST_DistanceSpheroid(buildings.geometry, transit.geometry) AS transit_distance\n",
    "\n",
    "    FROM buildings\n",
    "\n",
    "    -- Join for coffee shops\n",
    "    JOIN coffee\n",
    "    ON ST_KNN(buildings.geometry, coffee.GEOMETRY, 1, true)\n",
    "    \n",
    "    -- Join for grocery shops\n",
    "    JOIN grocery\n",
    "    ON ST_KNN(buildings.geometry, grocery.GEOMETRY, 1, true)\n",
    "\n",
    "    -- Join for child care\n",
    "    JOIN child_care\n",
    "    ON ST_KNN(buildings.geometry, child_care.GEOMETRY, 1, true)\n",
    "\n",
    "    -- Join for gym\n",
    "    JOIN gym\n",
    "    ON ST_KNN(buildings.geometry, gym.GEOMETRY, 1, true)\n",
    "\n",
    "    -- Join for hospital\n",
    "    JOIN hospital\n",
    "    ON ST_KNN(buildings.geometry, hospital.GEOMETRY, 1, true)\n",
    "\n",
    "    -- Join for school\n",
    "    JOIN school\n",
    "    ON ST_KNN(buildings.geometry, school.GEOMETRY, 1, true)\n",
    "\n",
    "    -- Join for transit\n",
    "    JOIN transit\n",
    "    ON ST_KNN(buildings.geometry, transit.GEOMETRY, 1, true)\n",
    "''')\n",
    "\n",
    "nearest_places_df.cache().count()"
   ]
  },
  {
   "cell_type": "code",
   "execution_count": null,
   "id": "65dc7160-1d83-4480-9ae5-5989cd997e5c",
   "metadata": {
    "execution": {
     "iopub.execute_input": "2025-10-20T20:58:29.113174Z",
     "iopub.status.busy": "2025-10-20T20:58:29.112941Z",
     "iopub.status.idle": "2025-10-20T20:58:29.426318Z",
     "shell.execute_reply": "2025-10-20T20:58:29.425357Z",
     "shell.execute_reply.started": "2025-10-20T20:58:29.113158Z"
    },
    "scrolled": true
   },
   "outputs": [],
   "source": [
    "nearest_places_df.show(5)"
   ]
  },
  {
   "cell_type": "code",
   "execution_count": null,
   "id": "13451c12-d85d-444c-b1e5-9392d2ab44cf",
   "metadata": {
    "execution": {
     "iopub.execute_input": "2025-10-20T20:58:31.544508Z",
     "iopub.status.busy": "2025-10-20T20:58:31.544322Z",
     "iopub.status.idle": "2025-10-20T20:58:31.624979Z",
     "shell.execute_reply": "2025-10-20T20:58:31.624458Z",
     "shell.execute_reply.started": "2025-10-20T20:58:31.544494Z"
    }
   },
   "outputs": [],
   "source": [
    "# Create a new Havasu (Iceberg) database\n",
    "\n",
    "database = 'pranav_gde_silver'\n",
    "\n",
    "sedona.sql(f'CREATE DATABASE IF NOT EXISTS wherobots.{database}')\n",
    "database"
   ]
  },
  {
   "cell_type": "code",
   "execution_count": null,
   "id": "d3f6f5eb-b2f1-40f5-9d30-e7089bcdfc0b",
   "metadata": {
    "execution": {
     "iopub.execute_input": "2025-10-20T20:58:34.081054Z",
     "iopub.status.busy": "2025-10-20T20:58:34.080857Z",
     "iopub.status.idle": "2025-10-20T20:58:36.404470Z",
     "shell.execute_reply": "2025-10-20T20:58:36.403754Z",
     "shell.execute_reply.started": "2025-10-20T20:58:34.081039Z"
    }
   },
   "outputs": [],
   "source": [
    "%%time\n",
    "\n",
    "nearest_places_df.writeTo(f\"wherobots.{database}.residential_buildings_amenites_silver\").createOrReplace()"
   ]
  },
  {
   "cell_type": "code",
   "execution_count": null,
   "id": "049d7fb2-47a1-4373-aebd-98c6cb9a0fe6",
   "metadata": {},
   "outputs": [],
   "source": []
  }
 ],
 "metadata": {
  "kernelspec": {
   "display_name": "Python 3 (ipykernel)",
   "language": "python",
   "name": "python3"
  },
  "language_info": {
   "codemirror_mode": {
    "name": "ipython",
    "version": 3
   },
   "file_extension": ".py",
   "mimetype": "text/x-python",
   "name": "python",
   "nbconvert_exporter": "python",
   "pygments_lexer": "ipython3",
   "version": "3.11.14"
  }
 },
 "nbformat": 4,
 "nbformat_minor": 5
}
