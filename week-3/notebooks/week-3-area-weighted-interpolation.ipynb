{
 "cells": [
  {
   "cell_type": "code",
   "execution_count": null,
   "id": "4397f8dc-728a-4de0-87be-e8cc233e3a0a",
   "metadata": {
    "execution": {
     "iopub.execute_input": "2025-10-20T01:48:13.445083Z",
     "iopub.status.busy": "2025-10-20T01:48:13.444972Z",
     "iopub.status.idle": "2025-10-20T01:48:14.745314Z",
     "shell.execute_reply": "2025-10-20T01:48:14.744368Z",
     "shell.execute_reply.started": "2025-10-20T01:48:13.445070Z"
    }
   },
   "outputs": [],
   "source": [
    "from sedona.spark import *\n",
    "config = SedonaContext.builder().getOrCreate()\n",
    "sedona = SedonaContext.create(config)"
   ]
  },
  {
   "cell_type": "code",
   "execution_count": null,
   "id": "5ea6fb4c-cfce-4308-8cc0-b885d24d3da6",
   "metadata": {
    "execution": {
     "iopub.execute_input": "2025-10-20T01:48:15.455345Z",
     "iopub.status.busy": "2025-10-20T01:48:15.455168Z",
     "iopub.status.idle": "2025-10-20T01:48:15.458144Z",
     "shell.execute_reply": "2025-10-20T01:48:15.457475Z",
     "shell.execute_reply.started": "2025-10-20T01:48:15.455331Z"
    }
   },
   "outputs": [],
   "source": [
    "database = 'gde_silver'"
   ]
  },
  {
   "cell_type": "code",
   "execution_count": null,
   "id": "25a83618-6cd9-4bd8-9788-4d84659e2903",
   "metadata": {
    "execution": {
     "iopub.execute_input": "2025-10-20T01:48:16.547960Z",
     "iopub.status.busy": "2025-10-20T01:48:16.547759Z",
     "iopub.status.idle": "2025-10-20T01:48:25.051546Z",
     "shell.execute_reply": "2025-10-20T01:48:25.051072Z",
     "shell.execute_reply.started": "2025-10-20T01:48:16.547944Z"
    }
   },
   "outputs": [],
   "source": [
    "# Home Area Buffers\n",
    "\n",
    "sedona.sql(f'''\n",
    "create or replace table org_catalog.{database}.homes_buffers as\n",
    "select                                                                                                      \n",
    "sale_id,                                                                                                  \n",
    "ST_Buffer(geometry, 1600, true) as buffer_1mile\n",
    "from org_catalog.gde_bronze.king_co_homes \n",
    "''')"
   ]
  },
  {
   "cell_type": "code",
   "execution_count": null,
   "id": "7bd0c942-022c-446a-9e2c-e72c921907d9",
   "metadata": {
    "execution": {
     "iopub.execute_input": "2025-10-20T01:48:25.052220Z",
     "iopub.status.busy": "2025-10-20T01:48:25.052113Z",
     "iopub.status.idle": "2025-10-20T01:49:49.842975Z",
     "shell.execute_reply": "2025-10-20T01:49:49.842413Z",
     "shell.execute_reply.started": "2025-10-20T01:48:25.052208Z"
    }
   },
   "outputs": [],
   "source": [
    "# Flood Hazards Table\n",
    "\n",
    "sedona.sql(f'''\n",
    "create or replace table org_catalog.{database}.homes_demographics\n",
    "with overlaps as (\n",
    "select                                                                                                      \n",
    "a.sale_id,   \n",
    "b.total_pop,\n",
    "b.median_age,\n",
    "b.median_income,\n",
    "st_area(\n",
    "    st_intersection(a.buffer_1mile, b.geometry)\n",
    ") / st_area(b.geometry) as share                                                                                             \n",
    "from org_catalog.{database}.homes_buffers a \n",
    "join org_catalog.{database}.census_data b  \n",
    "on st_intersects(b.geometry, a.buffer_1mile)\n",
    "),\n",
    "weighted AS (\n",
    "  SELECT\n",
    "    sale_id,\n",
    "    (total_pop * share) AS pop_in_overlap,  \n",
    "    median_age,\n",
    "    median_income\n",
    "  FROM overlaps\n",
    ")\n",
    "SELECT\n",
    "  sale_id,\n",
    "  SUM(pop_in_overlap) AS est_total_pop,\n",
    "  SUM(median_income * pop_in_overlap) / NULLIF(SUM(pop_in_overlap), 0) AS pw_median_income_proxy,\n",
    "  SUM(median_age * pop_in_overlap) / NULLIF(SUM(pop_in_overlap), 0) AS pw_median_age_proxy\n",
    "FROM weighted\n",
    "GROUP BY sale_id\n",
    "''')"
   ]
  },
  {
   "cell_type": "code",
   "execution_count": null,
   "id": "1cb756eb-616b-4d7b-b0fc-4700fa67f35b",
   "metadata": {
    "execution": {
     "iopub.execute_input": "2025-10-20T02:33:23.878525Z",
     "iopub.status.busy": "2025-10-20T02:33:23.878318Z",
     "iopub.status.idle": "2025-10-20T03:10:11.107120Z",
     "shell.execute_reply": "2025-10-20T03:10:11.105402Z",
     "shell.execute_reply.started": "2025-10-20T02:33:23.878510Z"
    }
   },
   "outputs": [],
   "source": [
    "# Zoning Percentages\n",
    "\n",
    "sedona.sql(f'''\n",
    "create or replace table org_catalog.{database}.zoning_overlaps as\n",
    "select                                                                                                      \n",
    "a.sale_id,   \n",
    "b.MASTER_CAT,\n",
    "b.SUB_CAT,\n",
    "st_area(\n",
    "    st_intersection(a.buffer_1mile, b.geometry)\n",
    ") / st_area(b.geometry) as share                                                                                             \n",
    "from org_catalog.{database}.homes_buffers a \n",
    "join org_catalog.gde_bronze.gen_land_use_bronze b  \n",
    "on st_intersects(b.geometry, a.buffer_1mile)\n",
    "where st_isvalid(geometry) is true\n",
    "''')"
   ]
  },
  {
   "cell_type": "code",
   "execution_count": null,
   "id": "a3e47f9e-eae6-4449-9731-8c95cc8b0bd2",
   "metadata": {},
   "outputs": [],
   "source": [
    "sedona.sql(f'''\n",
    "create or replace table org_catalog.{database}.homes_zoning_overlaps as\n",
    "SELECT\n",
    "  sale_id,\n",
    "  SUM(CASE WHEN master_cat = 'Industrial' THEN share ELSE 0.0 END) AS industrial,\n",
    "  SUM(CASE WHEN sub_cat = 'Residential (12+ Units/Acre)' THEN share ELSE 0.0 END) AS urban_residential,\n",
    "  SUM(CASE WHEN sub_cat = 'Mixed Use' THEN share ELSE 0.0 END) AS mixed_use,\n",
    "  SUM(CASE WHEN sub_cat = 'Commercial/Office' THEN share ELSE 0.0 END) AS commercial,\n",
    "  SUM(CASE WHEN master_cat = 'Active Open Space and Recreation' THEN share ELSE 0.0 END) AS recreation,\n",
    "  SUM(CASE WHEN master_cat = 'Urban Character Residential' THEN share ELSE 0.0 END) AS light_urban,\n",
    "  SUM(CASE WHEN master_cat = 'Rural Character Residential' THEN share ELSE 0.0 END) AS rural\n",
    "FROM overlaps\n",
    "GROUP BY sale_id\n",
    "''')"
   ]
  },
  {
   "cell_type": "code",
   "execution_count": null,
   "id": "dc52f087-69d9-4bb7-97d5-aeb6c68661aa",
   "metadata": {},
   "outputs": [],
   "source": []
  }
 ],
 "metadata": {
  "kernelspec": {
   "display_name": "Python 3 (ipykernel)",
   "language": "python",
   "name": "python3"
  },
  "language_info": {
   "codemirror_mode": {
    "name": "ipython",
    "version": 3
   },
   "file_extension": ".py",
   "mimetype": "text/x-python",
   "name": "python",
   "nbconvert_exporter": "python",
   "pygments_lexer": "ipython3",
   "version": "3.11.14"
  }
 },
 "nbformat": 4,
 "nbformat_minor": 5
}
