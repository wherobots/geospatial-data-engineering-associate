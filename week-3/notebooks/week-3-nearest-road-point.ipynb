{
 "cells": [
  {
   "cell_type": "code",
   "execution_count": 1,
   "id": "db36ee7e-aacd-4444-9da9-2fb6d485d595",
   "metadata": {},
   "outputs": [
    {
     "name": "stderr",
     "output_type": "stream",
     "text": [
      "Setting default log level to \"WARN\".\n",
      "To adjust logging level use sc.setLogLevel(newLevel). For SparkR, use setLogLevel(newLevel).\n",
      "Setting Spark log level to \"WARN\".\n",
      "                                                                                \r"
     ]
    }
   ],
   "source": [
    "from sedona.spark import *\n",
    "config = SedonaContext.builder().getOrCreate()\n",
    "sedona = SedonaContext.create(config)"
   ]
  },
  {
   "cell_type": "code",
   "execution_count": 2,
   "id": "84977593-f378-41cd-a9f8-3f32b049caec",
   "metadata": {
    "execution": {
     "iopub.execute_input": "2025-10-20T02:42:27.907672Z",
     "iopub.status.busy": "2025-10-20T02:42:27.907571Z",
     "iopub.status.idle": "2025-10-20T02:42:27.910454Z",
     "shell.execute_reply": "2025-10-20T02:42:27.909756Z",
     "shell.execute_reply.started": "2025-10-20T02:42:27.907657Z"
    }
   },
   "outputs": [],
   "source": [
    "database = 'gde_silver'"
   ]
  },
  {
   "cell_type": "code",
   "execution_count": 3,
   "id": "342fc216-0bf3-4bb2-986f-a5bfb1ed5412",
   "metadata": {
    "execution": {
     "iopub.execute_input": "2025-10-20T02:44:35.158148Z",
     "iopub.status.busy": "2025-10-20T02:44:35.157928Z",
     "iopub.status.idle": "2025-10-20T02:45:32.770932Z",
     "shell.execute_reply": "2025-10-20T02:45:32.770017Z",
     "shell.execute_reply.started": "2025-10-20T02:44:35.158132Z"
    }
   },
   "outputs": [
    {
     "name": "stderr",
     "output_type": "stream",
     "text": [
      "25/10/20 02:44:41 WARN JoinQueryDetector: Filter pushdown detected on the object side of a KNN join. This may cause the KNN join to return incorrect results. Consider materializing the object side before the join to prevent filter pushdown.\n",
      "                                                                                \r"
     ]
    },
    {
     "data": {
      "text/plain": [
       "DataFrame[]"
      ]
     },
     "execution_count": 3,
     "metadata": {},
     "output_type": "execute_result"
    }
   ],
   "source": [
    "# Major Road Intersection\n",
    "\n",
    "sedona.sql(f'''\n",
    "create or replace table org_catalog.{database}.roads_proximity as\n",
    "with roads as (\n",
    "select *\n",
    "from wherobots_open_data.overture_maps_foundation.transportation_segment\n",
    "where st_intersects(geometry, st_geomfromtext('POLYGON((-122.543146 47.780328, -121.065638 47.780328, -121.065638 47.08409, -122.543146 47.08409, -122.543146 47.780328))'))\n",
    "and class in ('motorway', 'primary', 'secondary', 'tertiary')\n",
    "),\n",
    "points as (\n",
    "SELECT\n",
    "a.id  AS ida,\n",
    "b.id  AS idb,\n",
    "ST_Intersection(a.geometry, b.geometry) AS geom\n",
    "FROM roads a\n",
    "JOIN roads b\n",
    "where st_crosses(a.geometry, b.geometry))\n",
    "\n",
    "select \n",
    "a.sale_id,\n",
    "st_distancespheroid(a.geometry, points.geom) as distance\n",
    "from\n",
    "org_catalog.gde_bronze.king_co_homes a\n",
    "join points\n",
    "on st_knn(a.geometry, points.geom, 1, true)\n",
    "''')"
   ]
  },
  {
   "cell_type": "code",
   "execution_count": null,
   "id": "466a4f5b-8ab3-43b9-96cc-e9ea4e006463",
   "metadata": {},
   "outputs": [],
   "source": []
  }
 ],
 "metadata": {
  "kernelspec": {
   "display_name": "Python 3 (ipykernel)",
   "language": "python",
   "name": "python3"
  },
  "language_info": {
   "codemirror_mode": {
    "name": "ipython",
    "version": 3
   },
   "file_extension": ".py",
   "mimetype": "text/x-python",
   "name": "python",
   "nbconvert_exporter": "python",
   "pygments_lexer": "ipython3",
   "version": "3.11.14"
  }
 },
 "nbformat": 4,
 "nbformat_minor": 5
}
