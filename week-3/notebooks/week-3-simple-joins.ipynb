{
 "cells": [
  {
   "cell_type": "code",
   "execution_count": null,
   "id": "4397f8dc-728a-4de0-87be-e8cc233e3a0a",
   "metadata": {},
   "outputs": [],
   "source": [
    "from sedona.spark import *\n",
    "config = SedonaContext.builder().getOrCreate()\n",
    "sedona = SedonaContext.create(config)"
   ]
  },
  {
   "cell_type": "code",
   "execution_count": null,
   "id": "5ea6fb4c-cfce-4308-8cc0-b885d24d3da6",
   "metadata": {},
   "outputs": [],
   "source": [
    "database = 'gde_silver'"
   ]
  },
  {
   "cell_type": "code",
   "execution_count": null,
   "id": "733dc1e1-c802-4bb9-95cc-475ec681e19b",
   "metadata": {},
   "outputs": [],
   "source": [
    "# Seismic Hazards Table\n",
    "\n",
    "sedona.sql(f'''\n",
    "update org_catalog.gde_bronze.king_co_homes\n",
    "set geometry = st_point(longitude, latitude) \n",
    "''')"
   ]
  },
  {
   "cell_type": "code",
   "execution_count": null,
   "id": "25a83618-6cd9-4bd8-9788-4d84659e2903",
   "metadata": {},
   "outputs": [],
   "source": [
    "# Seismic Hazards Table\n",
    "\n",
    "sedona.sql(f'''\n",
    "create or replace table org_catalog.{database}.homes_seismic_hazards\n",
    "select                                                                                                      \n",
    "a.sale_id,                                                                                                  \n",
    "b.OBJECTID as hazard_id,                                                                                                  \n",
    "b.HAZARD as hazard                                                                                                     \n",
    "from org_catalog.gde_bronze.king_co_homes a \n",
    "join org_catalog.gde_bronze.seismic_hazards_bronze b  \n",
    "on ST_Intersects(a.geometry, b.geometry)\n",
    "''')"
   ]
  },
  {
   "cell_type": "code",
   "execution_count": null,
   "id": "7bd0c942-022c-446a-9e2c-e72c921907d9",
   "metadata": {},
   "outputs": [],
   "source": [
    "# Flood Hazards Table\n",
    "\n",
    "sedona.sql(f'''\n",
    "create or replace table org_catalog.{database}.homes_flood_hazards\n",
    "select                                                                                                      \n",
    "a.sale_id,                                                                                                  \n",
    "b.FLD_AR_ID as flood_zone_id,                                                                                                  \n",
    "b.FLD_ZONE as flood_zone                                                                                                     \n",
    "from org_catalog.gde_bronze.king_co_homes a \n",
    "join org_catalog.gde_bronze.fema_flood_zones_bronze b  \n",
    "on st_contains(b.geometry, a.geometry)\n",
    "''')"
   ]
  },
  {
   "cell_type": "code",
   "execution_count": null,
   "id": "1cb756eb-616b-4d7b-b0fc-4700fa67f35b",
   "metadata": {},
   "outputs": [],
   "source": [
    "# School Achievement Table\n",
    "\n",
    "sedona.sql(f'''\n",
    "create or replace table org_catalog.{database}.homes_school_scores\n",
    "select                                                                                                      \n",
    "a.sale_id,                                                                                                  \n",
    "avg(b.high_achievement_percent) as avg_school_high_achievement                                                                                                   \n",
    "from org_catalog.gde_bronze.king_co_homes a \n",
    "join org_catalog.{database}.school_data b  \n",
    "on st_knn(a.geometry, b.geometry, 5)\n",
    "group by a.sale_id\n",
    "''')"
   ]
  },
  {
   "cell_type": "code",
   "execution_count": null,
   "id": "dc52f087-69d9-4bb7-97d5-aeb6c68661aa",
   "metadata": {},
   "outputs": [],
   "source": []
  }
 ],
 "metadata": {
  "kernelspec": {
   "display_name": "Python 3 (ipykernel)",
   "language": "python",
   "name": "python3"
  },
  "language_info": {
   "codemirror_mode": {
    "name": "ipython",
    "version": 3
   },
   "file_extension": ".py",
   "mimetype": "text/x-python",
   "name": "python",
   "nbconvert_exporter": "python",
   "pygments_lexer": "ipython3",
   "version": "3.11.14"
  }
 },
 "nbformat": 4,
 "nbformat_minor": 5
}
