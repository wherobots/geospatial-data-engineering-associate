{
 "cells": [
  {
   "cell_type": "code",
   "execution_count": null,
   "id": "7409dfa3-ed15-48b7-9407-cab621145b7a",
   "metadata": {},
   "outputs": [],
   "source": [
    "from sedona.spark import *\n",
    "from pyspark.sql.functions import col, when, expr\n",
    "from sedona.sql.st_functions import ST_IsValid, ST_IsValidReason, ST_MakeValid\n",
    "from pyspark.sql import DataFrame\n",
    "import urllib.request\n",
    "import json"
   ]
  },
  {
   "cell_type": "code",
   "execution_count": null,
   "id": "4712ec5c-a7b4-4b3c-bc55-a94330ce555d",
   "metadata": {
    "execution": {
     "iopub.execute_input": "2025-10-21T05:27:38.696660Z",
     "iopub.status.busy": "2025-10-21T05:27:38.696517Z",
     "iopub.status.idle": "2025-10-21T05:30:16.333239Z",
     "shell.execute_reply": "2025-10-21T05:30:16.332456Z",
     "shell.execute_reply.started": "2025-10-21T05:27:38.696643Z"
    }
   },
   "outputs": [],
   "source": [
    "config = SedonaContext.builder().getOrCreate()\n",
    "sedona = SedonaContext.create(config)"
   ]
  },
  {
   "cell_type": "markdown",
   "id": "ee7936e7-01cb-47ea-a76e-5f1beeeebe99",
   "metadata": {},
   "source": [
    "## Grab Area of Interest"
   ]
  },
  {
   "cell_type": "code",
   "execution_count": null,
   "id": "b1a71e45-c3bf-4b35-a02f-b0f066bc036e",
   "metadata": {
    "execution": {
     "iopub.execute_input": "2025-10-21T05:30:16.338373Z",
     "iopub.status.busy": "2025-10-21T05:30:16.338167Z",
     "iopub.status.idle": "2025-10-21T05:30:24.172592Z",
     "shell.execute_reply": "2025-10-21T05:30:24.171867Z",
     "shell.execute_reply.started": "2025-10-21T05:30:16.338350Z"
    }
   },
   "outputs": [],
   "source": [
    "import wkls\n",
    "\n",
    "seattle_dt = 'POLYGON ((-122.354307 47.612065, -122.318087 47.612065, -122.318087 47.626645, -122.354307 47.626645, -122.354307 47.612065))'\n",
    "\n",
    "washington = wkls.us.wa.wkt()\n",
    "seattle = wkls.us.wa.seattle.wkt()\n",
    "kirkland = wkls.us.wa.kirkland.wkt()\n",
    "bellevue = wkls.us.wa.bellevue.wkt()"
   ]
  },
  {
   "cell_type": "markdown",
   "id": "19cb32b6-2dff-4775-b3e6-53740d4718af",
   "metadata": {},
   "source": [
    "## Grab residential Buildings\n",
    "\n",
    "The Spatial Filter gets pushed down to storage level to only grab residential buildings that intersect the AOI"
   ]
  },
  {
   "cell_type": "code",
   "execution_count": null,
   "id": "e4ae60b6-f175-4a35-bc4c-7b96cd602f8a",
   "metadata": {
    "execution": {
     "iopub.execute_input": "2025-10-21T05:51:39.105003Z",
     "iopub.status.busy": "2025-10-21T05:51:39.104773Z",
     "iopub.status.idle": "2025-10-21T05:51:45.566704Z",
     "shell.execute_reply": "2025-10-21T05:51:45.566045Z",
     "shell.execute_reply.started": "2025-10-21T05:51:39.104983Z"
    }
   },
   "outputs": [],
   "source": [
    "buildings_df = sedona.table(\"wherobots_open_data.overture_maps_foundation.buildings_building\")\\\n",
    "                .filter(f\"\"\"\n",
    "                    ST_Intersects(geometry, ST_GeomFromWKT('{seattle}'))\n",
    "                    AND subtype == 'residential'\n",
    "                \"\"\")\n",
    "buildings_df.createOrReplaceTempView(\"buildings\")\n",
    "buildings_df.show(3)\n",
    "buildings_df.count()"
   ]
  },
  {
   "cell_type": "markdown",
   "id": "19edf5da-8315-4f8d-93fc-441b141a053b",
   "metadata": {},
   "source": [
    "## Grab Overture Places with pregenerated Drive time Isochrones\n",
    "\n",
    "Same Spatial filter pushdown concept with Places of Interest (POI) dataset.\n",
    "\n",
    "Here, we apply a buffer of 20KM to the AOI to make sure buildings near the edge of the AOI have coverage of POIs on all sides"
   ]
  },
  {
   "cell_type": "code",
   "execution_count": null,
   "id": "ca608c44-8002-4a3c-b4dd-81d257628f4e",
   "metadata": {
    "execution": {
     "iopub.execute_input": "2025-10-21T05:52:00.313641Z",
     "iopub.status.busy": "2025-10-21T05:52:00.313440Z",
     "iopub.status.idle": "2025-10-21T05:52:06.838426Z",
     "shell.execute_reply": "2025-10-21T05:52:06.837274Z",
     "shell.execute_reply.started": "2025-10-21T05:52:00.313625Z"
    }
   },
   "outputs": [],
   "source": [
    "poi_isochones_df = sedona.table(\"wherobots_pro_data.overture_maps_foundation.overture_places_with_isochrones\")\\\n",
    "                .filter(f\"\"\"\n",
    "                    ST_Intersects(\n",
    "                        geometry, \n",
    "                        ST_Buffer(ST_GeomFromWKT('{seattle}'), 20000, true)\n",
    "                    )\n",
    "                \"\"\")\n",
    "poi_isochones_df.createOrReplaceTempView(\"poi_iso\")\n",
    "poi_isochones_df.show(3)\n",
    "poi_isochones_df.count()"
   ]
  },
  {
   "cell_type": "code",
   "execution_count": null,
   "id": "be71bdb7-cde3-4b1d-bef9-4a81f55fcc3e",
   "metadata": {
    "execution": {
     "iopub.execute_input": "2025-10-21T05:52:10.747815Z",
     "iopub.status.busy": "2025-10-21T05:52:10.747601Z",
     "iopub.status.idle": "2025-10-21T05:52:17.828864Z",
     "shell.execute_reply": "2025-10-21T05:52:17.827979Z",
     "shell.execute_reply.started": "2025-10-21T05:52:10.747800Z"
    }
   },
   "outputs": [],
   "source": [
    "history_museums_df = poi_isochones_df.filter(\"categories.primary ILIKE '%history_museum%'\")\n",
    "history_museums_df.createOrReplaceTempView(\"museum\")\n",
    "history_museums_df.show(3)\n",
    "history_museums_df.count()"
   ]
  },
  {
   "cell_type": "markdown",
   "id": "5a76c4bc-e952-471c-a8a8-1d454f6515cf",
   "metadata": {},
   "source": [
    "## Enriching Residential Buildings with 5-Minute Museum Accessibility via car"
   ]
  },
  {
   "cell_type": "code",
   "execution_count": null,
   "id": "a14aab16-b876-4797-9ca5-c429a3f8681d",
   "metadata": {
    "execution": {
     "iopub.execute_input": "2025-10-21T06:03:40.451147Z",
     "iopub.status.busy": "2025-10-21T06:03:40.450944Z",
     "iopub.status.idle": "2025-10-21T06:03:47.745753Z",
     "shell.execute_reply": "2025-10-21T06:03:47.744509Z",
     "shell.execute_reply.started": "2025-10-21T06:03:40.451131Z"
    }
   },
   "outputs": [],
   "source": [
    "%time\n",
    "\n",
    "res = sedona.sql(\"\"\"\n",
    "    SELECT\n",
    "      b.id,\n",
    "      FIRST(b.geometry) AS geometry,\n",
    "      FIRST(b.subtype) AS subtype,\n",
    "      FIRST(b.class) AS class,\n",
    "      FIRST(b.names.primary) AS name,\n",
    "      (SUM(CASE WHEN m.id IS NOT NULL THEN 1 ELSE 0 END) > 0) AS has_museum_5min\n",
    "    FROM buildings b\n",
    "    LEFT JOIN museum m\n",
    "      ON ST_Intersects(b.geometry, m.isochrone_5min)\n",
    "    GROUP BY b.id\n",
    "\"\"\")\n",
    "\n",
    "res.cache().count()"
   ]
  },
  {
   "cell_type": "code",
   "execution_count": null,
   "id": "d9806b22-3f94-492f-bc3f-a36ced9954ca",
   "metadata": {
    "execution": {
     "iopub.execute_input": "2025-10-21T06:12:48.603251Z",
     "iopub.status.busy": "2025-10-21T06:12:48.602992Z",
     "iopub.status.idle": "2025-10-21T06:12:48.676924Z",
     "shell.execute_reply": "2025-10-21T06:12:48.676149Z",
     "shell.execute_reply.started": "2025-10-21T06:12:48.603229Z"
    }
   },
   "outputs": [],
   "source": [
    "res.show(5)"
   ]
  },
  {
   "cell_type": "code",
   "execution_count": null,
   "id": "b39f4bea-f28b-432d-bd36-7b9a390d1096",
   "metadata": {
    "execution": {
     "iopub.execute_input": "2025-10-21T06:07:11.806555Z",
     "iopub.status.busy": "2025-10-21T06:07:11.806350Z",
     "iopub.status.idle": "2025-10-21T06:07:13.709165Z",
     "shell.execute_reply": "2025-10-21T06:07:13.708226Z",
     "shell.execute_reply.started": "2025-10-21T06:07:11.806539Z"
    }
   },
   "outputs": [],
   "source": [
    "# Create a new Havasu (Iceberg) database\n",
    "\n",
    "database = 'gde_silver'\n",
    "\n",
    "sedona.sql(f'CREATE DATABASE IF NOT EXISTS org_catalog.{database}')\n",
    "database"
   ]
  },
  {
   "cell_type": "code",
   "execution_count": null,
   "id": "2552db82-0ba5-47f5-bee0-1319c4a8b854",
   "metadata": {
    "execution": {
     "iopub.execute_input": "2025-10-21T06:07:46.694819Z",
     "iopub.status.busy": "2025-10-21T06:07:46.694594Z",
     "iopub.status.idle": "2025-10-21T06:07:50.389593Z",
     "shell.execute_reply": "2025-10-21T06:07:50.388821Z",
     "shell.execute_reply.started": "2025-10-21T06:07:46.694802Z"
    }
   },
   "outputs": [],
   "source": [
    "%%time\n",
    "\n",
    "res.writeTo(f\"org_catalog.{database}.residential_buildings_near_museum_silver\").createOrReplace()"
   ]
  }
 ],
 "metadata": {
  "kernelspec": {
   "display_name": "Python 3 (ipykernel)",
   "language": "python",
   "name": "python3"
  },
  "language_info": {
   "codemirror_mode": {
    "name": "ipython",
    "version": 3
   },
   "file_extension": ".py",
   "mimetype": "text/x-python",
   "name": "python",
   "nbconvert_exporter": "python",
   "pygments_lexer": "ipython3",
   "version": "3.11.14"
  }
 },
 "nbformat": 4,
 "nbformat_minor": 5
}
